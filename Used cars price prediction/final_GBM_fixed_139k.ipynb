{
 "cells": [
  {
   "cell_type": "code",
   "execution_count": 467,
   "id": "ac58aac3",
   "metadata": {},
   "outputs": [],
   "source": [
    "import pandas as pd\n",
    "import numpy as np\n",
    "import matplotlib.pyplot as plt\n",
    "import seaborn as sns\n",
    "\n",
    "sns.set()"
   ]
  },
  {
   "cell_type": "code",
   "execution_count": 468,
   "id": "df701af9",
   "metadata": {},
   "outputs": [],
   "source": [
    "#sample = pd.read_csv('sample.csv')\n",
    "train_data = pd.read_csv('train.csv',sep=\";\")\n",
    "test_data = pd.read_csv('test.csv',sep=\";\")\n"
   ]
  },
  {
   "cell_type": "code",
   "execution_count": 469,
   "id": "fda2f973",
   "metadata": {},
   "outputs": [],
   "source": [
    "#train_data.info()\n"
   ]
  },
  {
   "cell_type": "code",
   "execution_count": 470,
   "id": "25797507",
   "metadata": {},
   "outputs": [
    {
     "data": {
      "text/html": [
       "<div>\n",
       "<style scoped>\n",
       "    .dataframe tbody tr th:only-of-type {\n",
       "        vertical-align: middle;\n",
       "    }\n",
       "\n",
       "    .dataframe tbody tr th {\n",
       "        vertical-align: top;\n",
       "    }\n",
       "\n",
       "    .dataframe thead th {\n",
       "        text-align: right;\n",
       "    }\n",
       "</style>\n",
       "<table border=\"1\" class=\"dataframe\">\n",
       "  <thead>\n",
       "    <tr style=\"text-align: right;\">\n",
       "      <th></th>\n",
       "      <th>name</th>\n",
       "      <th>year</th>\n",
       "      <th>selling_price</th>\n",
       "      <th>km_driven</th>\n",
       "      <th>fuel</th>\n",
       "      <th>seller_type</th>\n",
       "      <th>transmission</th>\n",
       "      <th>owner</th>\n",
       "      <th>mileage</th>\n",
       "      <th>engine</th>\n",
       "      <th>max_power</th>\n",
       "      <th>torque</th>\n",
       "      <th>seats</th>\n",
       "    </tr>\n",
       "  </thead>\n",
       "  <tbody>\n",
       "    <tr>\n",
       "      <th>0</th>\n",
       "      <td>Tata Nexon 1.5 Revotorq XM</td>\n",
       "      <td>2018</td>\n",
       "      <td>850000</td>\n",
       "      <td>9500</td>\n",
       "      <td>Diesel</td>\n",
       "      <td>Individual</td>\n",
       "      <td>Manual</td>\n",
       "      <td>First Owner</td>\n",
       "      <td>21.5 kmpl</td>\n",
       "      <td>1497 CC</td>\n",
       "      <td>108.5 bhp</td>\n",
       "      <td>260Nm@ 1500-2750rpm</td>\n",
       "      <td>5.0</td>\n",
       "    </tr>\n",
       "    <tr>\n",
       "      <th>1</th>\n",
       "      <td>Hyundai i20 Active SX Diesel</td>\n",
       "      <td>2018</td>\n",
       "      <td>750000</td>\n",
       "      <td>30000</td>\n",
       "      <td>Diesel</td>\n",
       "      <td>Individual</td>\n",
       "      <td>Manual</td>\n",
       "      <td>First Owner</td>\n",
       "      <td>21.19 kmpl</td>\n",
       "      <td>1396 CC</td>\n",
       "      <td>88.76 bhp</td>\n",
       "      <td>219.66nm@ 1500-2750rpm</td>\n",
       "      <td>5.0</td>\n",
       "    </tr>\n",
       "    <tr>\n",
       "      <th>2</th>\n",
       "      <td>Toyota Fortuner 4x2 AT</td>\n",
       "      <td>2015</td>\n",
       "      <td>1500000</td>\n",
       "      <td>80000</td>\n",
       "      <td>Diesel</td>\n",
       "      <td>Individual</td>\n",
       "      <td>Automatic</td>\n",
       "      <td>Second Owner</td>\n",
       "      <td>12.55 kmpl</td>\n",
       "      <td>2982 CC</td>\n",
       "      <td>168.5 bhp</td>\n",
       "      <td>360Nm@ 1400-3200rpm</td>\n",
       "      <td>7.0</td>\n",
       "    </tr>\n",
       "    <tr>\n",
       "      <th>3</th>\n",
       "      <td>Hyundai Verna 1.6 VTVT SX</td>\n",
       "      <td>2015</td>\n",
       "      <td>795000</td>\n",
       "      <td>35000</td>\n",
       "      <td>Petrol</td>\n",
       "      <td>Individual</td>\n",
       "      <td>Manual</td>\n",
       "      <td>First Owner</td>\n",
       "      <td>17.01 kmpl</td>\n",
       "      <td>1591 CC</td>\n",
       "      <td>121.3 bhp</td>\n",
       "      <td>154.9Nm@ 4200rpm</td>\n",
       "      <td>5.0</td>\n",
       "    </tr>\n",
       "    <tr>\n",
       "      <th>4</th>\n",
       "      <td>Volvo XC40 D4 Inscription BSIV</td>\n",
       "      <td>2019</td>\n",
       "      <td>3800000</td>\n",
       "      <td>20000</td>\n",
       "      <td>Diesel</td>\n",
       "      <td>Individual</td>\n",
       "      <td>Automatic</td>\n",
       "      <td>First Owner</td>\n",
       "      <td>18.0 kmpl</td>\n",
       "      <td>1969 CC</td>\n",
       "      <td>190 bhp</td>\n",
       "      <td>400Nm</td>\n",
       "      <td>5.0</td>\n",
       "    </tr>\n",
       "  </tbody>\n",
       "</table>\n",
       "</div>"
      ],
      "text/plain": [
       "                             name  year  selling_price  km_driven    fuel  \\\n",
       "0      Tata Nexon 1.5 Revotorq XM  2018         850000       9500  Diesel   \n",
       "1    Hyundai i20 Active SX Diesel  2018         750000      30000  Diesel   \n",
       "2          Toyota Fortuner 4x2 AT  2015        1500000      80000  Diesel   \n",
       "3       Hyundai Verna 1.6 VTVT SX  2015         795000      35000  Petrol   \n",
       "4  Volvo XC40 D4 Inscription BSIV  2019        3800000      20000  Diesel   \n",
       "\n",
       "  seller_type transmission         owner     mileage   engine  max_power  \\\n",
       "0  Individual       Manual   First Owner   21.5 kmpl  1497 CC  108.5 bhp   \n",
       "1  Individual       Manual   First Owner  21.19 kmpl  1396 CC  88.76 bhp   \n",
       "2  Individual    Automatic  Second Owner  12.55 kmpl  2982 CC  168.5 bhp   \n",
       "3  Individual       Manual   First Owner  17.01 kmpl  1591 CC  121.3 bhp   \n",
       "4  Individual    Automatic   First Owner   18.0 kmpl  1969 CC    190 bhp   \n",
       "\n",
       "                   torque  seats  \n",
       "0     260Nm@ 1500-2750rpm    5.0  \n",
       "1  219.66nm@ 1500-2750rpm    5.0  \n",
       "2     360Nm@ 1400-3200rpm    7.0  \n",
       "3        154.9Nm@ 4200rpm    5.0  \n",
       "4                   400Nm    5.0  "
      ]
     },
     "execution_count": 470,
     "metadata": {},
     "output_type": "execute_result"
    }
   ],
   "source": [
    "train_data.head()"
   ]
  },
  {
   "cell_type": "code",
   "execution_count": 471,
   "id": "842b40e9",
   "metadata": {},
   "outputs": [
    {
     "data": {
      "text/html": [
       "<div>\n",
       "<style scoped>\n",
       "    .dataframe tbody tr th:only-of-type {\n",
       "        vertical-align: middle;\n",
       "    }\n",
       "\n",
       "    .dataframe tbody tr th {\n",
       "        vertical-align: top;\n",
       "    }\n",
       "\n",
       "    .dataframe thead th {\n",
       "        text-align: right;\n",
       "    }\n",
       "</style>\n",
       "<table border=\"1\" class=\"dataframe\">\n",
       "  <thead>\n",
       "    <tr style=\"text-align: right;\">\n",
       "      <th></th>\n",
       "      <th>year</th>\n",
       "      <th>selling_price</th>\n",
       "      <th>km_driven</th>\n",
       "      <th>seats</th>\n",
       "    </tr>\n",
       "  </thead>\n",
       "  <tbody>\n",
       "    <tr>\n",
       "      <th>count</th>\n",
       "      <td>6000.000000</td>\n",
       "      <td>6.000000e+03</td>\n",
       "      <td>6.000000e+03</td>\n",
       "      <td>5841.000000</td>\n",
       "    </tr>\n",
       "    <tr>\n",
       "      <th>mean</th>\n",
       "      <td>2013.814833</td>\n",
       "      <td>6.387764e+05</td>\n",
       "      <td>6.997216e+04</td>\n",
       "      <td>5.429550</td>\n",
       "    </tr>\n",
       "    <tr>\n",
       "      <th>std</th>\n",
       "      <td>4.026733</td>\n",
       "      <td>8.066632e+05</td>\n",
       "      <td>5.188961e+04</td>\n",
       "      <td>0.977071</td>\n",
       "    </tr>\n",
       "    <tr>\n",
       "      <th>min</th>\n",
       "      <td>1983.000000</td>\n",
       "      <td>3.000000e+04</td>\n",
       "      <td>1.000000e+03</td>\n",
       "      <td>2.000000</td>\n",
       "    </tr>\n",
       "    <tr>\n",
       "      <th>25%</th>\n",
       "      <td>2011.000000</td>\n",
       "      <td>2.557498e+05</td>\n",
       "      <td>3.500000e+04</td>\n",
       "      <td>5.000000</td>\n",
       "    </tr>\n",
       "    <tr>\n",
       "      <th>50%</th>\n",
       "      <td>2015.000000</td>\n",
       "      <td>4.500000e+05</td>\n",
       "      <td>6.000000e+04</td>\n",
       "      <td>5.000000</td>\n",
       "    </tr>\n",
       "    <tr>\n",
       "      <th>75%</th>\n",
       "      <td>2017.000000</td>\n",
       "      <td>6.750000e+05</td>\n",
       "      <td>9.900000e+04</td>\n",
       "      <td>5.000000</td>\n",
       "    </tr>\n",
       "    <tr>\n",
       "      <th>max</th>\n",
       "      <td>2020.000000</td>\n",
       "      <td>1.000000e+07</td>\n",
       "      <td>1.500000e+06</td>\n",
       "      <td>14.000000</td>\n",
       "    </tr>\n",
       "  </tbody>\n",
       "</table>\n",
       "</div>"
      ],
      "text/plain": [
       "              year  selling_price     km_driven        seats\n",
       "count  6000.000000   6.000000e+03  6.000000e+03  5841.000000\n",
       "mean   2013.814833   6.387764e+05  6.997216e+04     5.429550\n",
       "std       4.026733   8.066632e+05  5.188961e+04     0.977071\n",
       "min    1983.000000   3.000000e+04  1.000000e+03     2.000000\n",
       "25%    2011.000000   2.557498e+05  3.500000e+04     5.000000\n",
       "50%    2015.000000   4.500000e+05  6.000000e+04     5.000000\n",
       "75%    2017.000000   6.750000e+05  9.900000e+04     5.000000\n",
       "max    2020.000000   1.000000e+07  1.500000e+06    14.000000"
      ]
     },
     "execution_count": 471,
     "metadata": {},
     "output_type": "execute_result"
    }
   ],
   "source": [
    "train_data.describe()\n"
   ]
  },
  {
   "cell_type": "code",
   "execution_count": 472,
   "id": "60ef9463",
   "metadata": {},
   "outputs": [
    {
     "data": {
      "text/plain": [
       "(6000, 13)"
      ]
     },
     "execution_count": 472,
     "metadata": {},
     "output_type": "execute_result"
    }
   ],
   "source": [
    "train_data.shape\n",
    "#test_data.shape"
   ]
  },
  {
   "cell_type": "code",
   "execution_count": 473,
   "id": "278c1588",
   "metadata": {},
   "outputs": [
    {
     "data": {
      "text/plain": [
       "Id               0\n",
       "name             0\n",
       "year             0\n",
       "km_driven        0\n",
       "fuel             0\n",
       "seller_type      0\n",
       "transmission     0\n",
       "owner            0\n",
       "mileage         62\n",
       "engine          62\n",
       "max_power       61\n",
       "torque          62\n",
       "seats           62\n",
       "dtype: int64"
      ]
     },
     "execution_count": 473,
     "metadata": {},
     "output_type": "execute_result"
    }
   ],
   "source": [
    "train_data.isnull().sum()\n",
    "test_data.isnull().sum()\n"
   ]
  },
  {
   "cell_type": "code",
   "execution_count": 474,
   "id": "e7dff92c",
   "metadata": {},
   "outputs": [
    {
     "data": {
      "text/plain": [
       "(2128, 13)"
      ]
     },
     "execution_count": 474,
     "metadata": {},
     "output_type": "execute_result"
    }
   ],
   "source": [
    "#train_data = train_data.drop(columns='Unnamed: 0')\n",
    "#train_data = train_data.drop(columns='New_Price')\n",
    "\n",
    "train_data = train_data.dropna()\n",
    "#test_data = test_data.fillna('0')\n",
    "\n",
    "\n",
    "# Reset index\n",
    "train_data = train_data.reset_index(drop=True)\n",
    "#test_data = test_data.reset_index(drop=True)\n",
    "\n",
    "\n",
    "train_data.shape\n",
    "test_data.shape\n"
   ]
  },
  {
   "cell_type": "code",
   "execution_count": 475,
   "id": "719946c4",
   "metadata": {},
   "outputs": [
    {
     "data": {
      "text/plain": [
       "Id               0\n",
       "name             0\n",
       "year             0\n",
       "km_driven        0\n",
       "fuel             0\n",
       "seller_type      0\n",
       "transmission     0\n",
       "owner            0\n",
       "mileage         62\n",
       "engine          62\n",
       "max_power       61\n",
       "torque          62\n",
       "seats           62\n",
       "dtype: int64"
      ]
     },
     "execution_count": 475,
     "metadata": {},
     "output_type": "execute_result"
    }
   ],
   "source": [
    "test_data.isnull().sum()\n"
   ]
  },
  {
   "cell_type": "code",
   "execution_count": 476,
   "id": "e431e53e",
   "metadata": {},
   "outputs": [],
   "source": [
    "#train_data['max_power'].value_counts()\n"
   ]
  },
  {
   "cell_type": "code",
   "execution_count": 477,
   "id": "7cec152a",
   "metadata": {},
   "outputs": [],
   "source": [
    "#train_data['max_power'] = train_data['max_power'].fillna('74 bhp')\n"
   ]
  },
  {
   "cell_type": "code",
   "execution_count": 478,
   "id": "9fbb915e",
   "metadata": {},
   "outputs": [],
   "source": [
    "#train_data['seats'].value_counts()\n"
   ]
  },
  {
   "cell_type": "code",
   "execution_count": 479,
   "id": "683296ef",
   "metadata": {},
   "outputs": [],
   "source": [
    "#train_data['seats'] = train_data['seats'].fillna(5.0)\n"
   ]
  },
  {
   "cell_type": "code",
   "execution_count": 480,
   "id": "bc569cfe",
   "metadata": {
    "scrolled": true
   },
   "outputs": [
    {
     "data": {
      "text/html": [
       "<div>\n",
       "<style scoped>\n",
       "    .dataframe tbody tr th:only-of-type {\n",
       "        vertical-align: middle;\n",
       "    }\n",
       "\n",
       "    .dataframe tbody tr th {\n",
       "        vertical-align: top;\n",
       "    }\n",
       "\n",
       "    .dataframe thead th {\n",
       "        text-align: right;\n",
       "    }\n",
       "</style>\n",
       "<table border=\"1\" class=\"dataframe\">\n",
       "  <thead>\n",
       "    <tr style=\"text-align: right;\">\n",
       "      <th></th>\n",
       "      <th>year</th>\n",
       "      <th>selling_price</th>\n",
       "      <th>km_driven</th>\n",
       "      <th>fuel</th>\n",
       "      <th>seller_type</th>\n",
       "      <th>transmission</th>\n",
       "      <th>owner</th>\n",
       "      <th>mileage</th>\n",
       "      <th>engine</th>\n",
       "      <th>torque</th>\n",
       "      <th>seats</th>\n",
       "      <th>brand</th>\n",
       "      <th>power</th>\n",
       "    </tr>\n",
       "  </thead>\n",
       "  <tbody>\n",
       "    <tr>\n",
       "      <th>0</th>\n",
       "      <td>2018</td>\n",
       "      <td>850000</td>\n",
       "      <td>9500</td>\n",
       "      <td>Diesel</td>\n",
       "      <td>Individual</td>\n",
       "      <td>Manual</td>\n",
       "      <td>First Owner</td>\n",
       "      <td>21.50</td>\n",
       "      <td>1497.0</td>\n",
       "      <td>260Nm@ 1500-2750rpm</td>\n",
       "      <td>5.0</td>\n",
       "      <td>Tata</td>\n",
       "      <td>108.5</td>\n",
       "    </tr>\n",
       "    <tr>\n",
       "      <th>1</th>\n",
       "      <td>2018</td>\n",
       "      <td>750000</td>\n",
       "      <td>30000</td>\n",
       "      <td>Diesel</td>\n",
       "      <td>Individual</td>\n",
       "      <td>Manual</td>\n",
       "      <td>First Owner</td>\n",
       "      <td>21.19</td>\n",
       "      <td>1396.0</td>\n",
       "      <td>219.66nm@ 1500-2750rpm</td>\n",
       "      <td>5.0</td>\n",
       "      <td>Hyundai</td>\n",
       "      <td>88.76</td>\n",
       "    </tr>\n",
       "    <tr>\n",
       "      <th>2</th>\n",
       "      <td>2015</td>\n",
       "      <td>1500000</td>\n",
       "      <td>80000</td>\n",
       "      <td>Diesel</td>\n",
       "      <td>Individual</td>\n",
       "      <td>Automatic</td>\n",
       "      <td>Second Owner</td>\n",
       "      <td>12.55</td>\n",
       "      <td>2982.0</td>\n",
       "      <td>360Nm@ 1400-3200rpm</td>\n",
       "      <td>7.0</td>\n",
       "      <td>Toyota</td>\n",
       "      <td>168.5</td>\n",
       "    </tr>\n",
       "    <tr>\n",
       "      <th>3</th>\n",
       "      <td>2015</td>\n",
       "      <td>795000</td>\n",
       "      <td>35000</td>\n",
       "      <td>Petrol</td>\n",
       "      <td>Individual</td>\n",
       "      <td>Manual</td>\n",
       "      <td>First Owner</td>\n",
       "      <td>17.01</td>\n",
       "      <td>1591.0</td>\n",
       "      <td>154.9Nm@ 4200rpm</td>\n",
       "      <td>5.0</td>\n",
       "      <td>Hyundai</td>\n",
       "      <td>121.3</td>\n",
       "    </tr>\n",
       "    <tr>\n",
       "      <th>4</th>\n",
       "      <td>2019</td>\n",
       "      <td>3800000</td>\n",
       "      <td>20000</td>\n",
       "      <td>Diesel</td>\n",
       "      <td>Individual</td>\n",
       "      <td>Automatic</td>\n",
       "      <td>First Owner</td>\n",
       "      <td>18.00</td>\n",
       "      <td>1969.0</td>\n",
       "      <td>400Nm</td>\n",
       "      <td>5.0</td>\n",
       "      <td>Volvo</td>\n",
       "      <td>190</td>\n",
       "    </tr>\n",
       "  </tbody>\n",
       "</table>\n",
       "</div>"
      ],
      "text/plain": [
       "   year  selling_price  km_driven    fuel seller_type transmission  \\\n",
       "0  2018         850000       9500  Diesel  Individual       Manual   \n",
       "1  2018         750000      30000  Diesel  Individual       Manual   \n",
       "2  2015        1500000      80000  Diesel  Individual    Automatic   \n",
       "3  2015         795000      35000  Petrol  Individual       Manual   \n",
       "4  2019        3800000      20000  Diesel  Individual    Automatic   \n",
       "\n",
       "          owner  mileage  engine                  torque  seats    brand  \\\n",
       "0   First Owner    21.50  1497.0     260Nm@ 1500-2750rpm    5.0     Tata   \n",
       "1   First Owner    21.19  1396.0  219.66nm@ 1500-2750rpm    5.0  Hyundai   \n",
       "2  Second Owner    12.55  2982.0     360Nm@ 1400-3200rpm    7.0   Toyota   \n",
       "3   First Owner    17.01  1591.0        154.9Nm@ 4200rpm    5.0  Hyundai   \n",
       "4   First Owner    18.00  1969.0                   400Nm    5.0    Volvo   \n",
       "\n",
       "   power  \n",
       "0  108.5  \n",
       "1  88.76  \n",
       "2  168.5  \n",
       "3  121.3  \n",
       "4    190  "
      ]
     },
     "execution_count": 480,
     "metadata": {},
     "output_type": "execute_result"
    }
   ],
   "source": [
    "# Modify some fields \n",
    "train_data['mileage'] = train_data['mileage'].apply(lambda x: float(x.split()[0]))\n",
    "train_data['engine'] = train_data['engine'].apply(lambda x: float(x.split()[0]))\n",
    "train_data['brand'] = train_data['name'].apply(lambda x: x.split()[0])\n",
    "\n",
    "train_data['power'] = train_data['max_power'].apply(lambda x: x.split()[0])\n",
    "#train_data = train_data[train_data['power'].str.contains('\\d', regex=True)]\n",
    "#train_data['new_power'] = train_data['new_power'].apply(lambda x: float(x))\n",
    "#train_data['year'] = train_data['year'].apply(lambda x: 2 if x>2015)\n",
    "\n",
    "train_data = train_data.drop(columns=[ 'max_power', 'name'])\n",
    "\n",
    "train_data.head()"
   ]
  },
  {
   "cell_type": "code",
   "execution_count": 481,
   "id": "5517e3a7",
   "metadata": {},
   "outputs": [
    {
     "data": {
      "text/plain": [
       "74 bhp       105\n",
       "81.80 bhp     61\n",
       "88.5 bhp      55\n",
       "88.7 bhp      48\n",
       "67.1 bhp      47\n",
       "            ... \n",
       "135.1 bhp      1\n",
       "53.26 bhp      1\n",
       "68.4 bhp       1\n",
       "110.5 bhp      1\n",
       "86.7 bhp       1\n",
       "Name: max_power, Length: 236, dtype: int64"
      ]
     },
     "execution_count": 481,
     "metadata": {},
     "output_type": "execute_result"
    }
   ],
   "source": [
    "test_data['max_power'].value_counts()\n"
   ]
  },
  {
   "cell_type": "code",
   "execution_count": 482,
   "id": "1cbb76f4",
   "metadata": {},
   "outputs": [
    {
     "data": {
      "text/plain": [
       "5.0     1664\n",
       "7.0      278\n",
       "8.0       61\n",
       "4.0       34\n",
       "6.0       13\n",
       "9.0       12\n",
       "10.0       4\n",
       "Name: seats, dtype: int64"
      ]
     },
     "execution_count": 482,
     "metadata": {},
     "output_type": "execute_result"
    }
   ],
   "source": [
    "test_data['seats'].value_counts()\n"
   ]
  },
  {
   "cell_type": "code",
   "execution_count": 483,
   "id": "b8dfdc80",
   "metadata": {
    "scrolled": true
   },
   "outputs": [],
   "source": [
    "test_data['mileage'] = test_data['mileage'].fillna(str(train_data['mileage'].mean()) + ' _')\n",
    "test_data['engine'] = test_data['engine'].fillna(str(train_data['engine'].mean()) + ' _')\n",
    "test_data['name'] = test_data['name'].fillna('Maruti')\n",
    "test_data['max_power'] = test_data['max_power'].fillna('74 bhp')\n",
    "test_data['seats'] = test_data['seats'].fillna(5.0)\n",
    "#test_data['seats'] = test_data['seats'].fillna(int(train_data['seats'].mean()))"
   ]
  },
  {
   "cell_type": "code",
   "execution_count": 484,
   "id": "a3d9cf00",
   "metadata": {},
   "outputs": [
    {
     "data": {
      "text/plain": [
       "Id               0\n",
       "name             0\n",
       "year             0\n",
       "km_driven        0\n",
       "fuel             0\n",
       "seller_type      0\n",
       "transmission     0\n",
       "owner            0\n",
       "mileage          0\n",
       "engine           0\n",
       "max_power        0\n",
       "torque          62\n",
       "seats            0\n",
       "dtype: int64"
      ]
     },
     "execution_count": 484,
     "metadata": {},
     "output_type": "execute_result"
    }
   ],
   "source": [
    "test_data.isnull().sum()"
   ]
  },
  {
   "cell_type": "code",
   "execution_count": 485,
   "id": "146d36ee",
   "metadata": {},
   "outputs": [],
   "source": [
    "test_data['mileage'] = test_data['mileage'].apply(lambda x: str(x))\n",
    "test_data['engine'] = test_data['engine'].apply(lambda x: str(x))\n",
    "test_data['brand'] = test_data['name'].apply(lambda x: str(x))\n",
    "test_data['max_power'] = test_data['max_power'].apply(lambda x: str(x))"
   ]
  },
  {
   "cell_type": "code",
   "execution_count": 486,
   "id": "b56f7636",
   "metadata": {},
   "outputs": [
    {
     "data": {
      "text/html": [
       "<div>\n",
       "<style scoped>\n",
       "    .dataframe tbody tr th:only-of-type {\n",
       "        vertical-align: middle;\n",
       "    }\n",
       "\n",
       "    .dataframe tbody tr th {\n",
       "        vertical-align: top;\n",
       "    }\n",
       "\n",
       "    .dataframe thead th {\n",
       "        text-align: right;\n",
       "    }\n",
       "</style>\n",
       "<table border=\"1\" class=\"dataframe\">\n",
       "  <thead>\n",
       "    <tr style=\"text-align: right;\">\n",
       "      <th></th>\n",
       "      <th>Id</th>\n",
       "      <th>year</th>\n",
       "      <th>km_driven</th>\n",
       "      <th>fuel</th>\n",
       "      <th>seller_type</th>\n",
       "      <th>transmission</th>\n",
       "      <th>owner</th>\n",
       "      <th>mileage</th>\n",
       "      <th>engine</th>\n",
       "      <th>torque</th>\n",
       "      <th>seats</th>\n",
       "      <th>brand</th>\n",
       "      <th>power</th>\n",
       "    </tr>\n",
       "  </thead>\n",
       "  <tbody>\n",
       "    <tr>\n",
       "      <th>0</th>\n",
       "      <td>1</td>\n",
       "      <td>2016</td>\n",
       "      <td>11000</td>\n",
       "      <td>Petrol</td>\n",
       "      <td>Dealer</td>\n",
       "      <td>Automatic</td>\n",
       "      <td>First Owner</td>\n",
       "      <td>14.30</td>\n",
       "      <td>1598.0</td>\n",
       "      <td>153Nm@ 3800rpm</td>\n",
       "      <td>5.0</td>\n",
       "      <td>Skoda</td>\n",
       "      <td>103.5</td>\n",
       "    </tr>\n",
       "    <tr>\n",
       "      <th>1</th>\n",
       "      <td>2</td>\n",
       "      <td>2017</td>\n",
       "      <td>35000</td>\n",
       "      <td>Petrol</td>\n",
       "      <td>Individual</td>\n",
       "      <td>Manual</td>\n",
       "      <td>First Owner</td>\n",
       "      <td>17.80</td>\n",
       "      <td>1497.0</td>\n",
       "      <td>145Nm@ 4600rpm</td>\n",
       "      <td>5.0</td>\n",
       "      <td>Honda</td>\n",
       "      <td>117.3</td>\n",
       "    </tr>\n",
       "    <tr>\n",
       "      <th>2</th>\n",
       "      <td>3</td>\n",
       "      <td>2014</td>\n",
       "      <td>80000</td>\n",
       "      <td>Petrol</td>\n",
       "      <td>Individual</td>\n",
       "      <td>Manual</td>\n",
       "      <td>First Owner</td>\n",
       "      <td>19.10</td>\n",
       "      <td>1197.0</td>\n",
       "      <td>114Nm@ 4000rpm</td>\n",
       "      <td>5.0</td>\n",
       "      <td>Hyundai</td>\n",
       "      <td>82</td>\n",
       "    </tr>\n",
       "    <tr>\n",
       "      <th>3</th>\n",
       "      <td>4</td>\n",
       "      <td>2014</td>\n",
       "      <td>145241</td>\n",
       "      <td>Diesel</td>\n",
       "      <td>Individual</td>\n",
       "      <td>Manual</td>\n",
       "      <td>First Owner</td>\n",
       "      <td>12.05</td>\n",
       "      <td>2179.0</td>\n",
       "      <td>290Nm@ 1800-2800rpm</td>\n",
       "      <td>7.0</td>\n",
       "      <td>Mahindra</td>\n",
       "      <td>120</td>\n",
       "    </tr>\n",
       "    <tr>\n",
       "      <th>4</th>\n",
       "      <td>5</td>\n",
       "      <td>2015</td>\n",
       "      <td>92651</td>\n",
       "      <td>Diesel</td>\n",
       "      <td>Dealer</td>\n",
       "      <td>Manual</td>\n",
       "      <td>First Owner</td>\n",
       "      <td>21.70</td>\n",
       "      <td>1498.0</td>\n",
       "      <td>215Nm@ 1750-2500rpm</td>\n",
       "      <td>5.0</td>\n",
       "      <td>Ford</td>\n",
       "      <td>98.96</td>\n",
       "    </tr>\n",
       "  </tbody>\n",
       "</table>\n",
       "</div>"
      ],
      "text/plain": [
       "   Id  year  km_driven    fuel seller_type transmission        owner  mileage  \\\n",
       "0   1  2016      11000  Petrol      Dealer    Automatic  First Owner    14.30   \n",
       "1   2  2017      35000  Petrol  Individual       Manual  First Owner    17.80   \n",
       "2   3  2014      80000  Petrol  Individual       Manual  First Owner    19.10   \n",
       "3   4  2014     145241  Diesel  Individual       Manual  First Owner    12.05   \n",
       "4   5  2015      92651  Diesel      Dealer       Manual  First Owner    21.70   \n",
       "\n",
       "   engine               torque  seats     brand  power  \n",
       "0  1598.0       153Nm@ 3800rpm    5.0     Skoda  103.5  \n",
       "1  1497.0       145Nm@ 4600rpm    5.0     Honda  117.3  \n",
       "2  1197.0       114Nm@ 4000rpm    5.0   Hyundai     82  \n",
       "3  2179.0  290Nm@ 1800-2800rpm    7.0  Mahindra    120  \n",
       "4  1498.0  215Nm@ 1750-2500rpm    5.0      Ford  98.96  "
      ]
     },
     "execution_count": 486,
     "metadata": {},
     "output_type": "execute_result"
    }
   ],
   "source": [
    "test_data['mileage'] = test_data['mileage'].apply(lambda x: float(x.split()[0]))\n",
    "test_data['engine'] = test_data['engine'].apply(lambda x: float(x.split()[0]))\n",
    "test_data['brand'] = test_data['name'].apply(lambda x: x.split()[0])\n",
    "\n",
    "test_data['power'] = test_data['max_power'].apply(lambda x: x.split()[0])\n",
    "#train_data = train_data[train_data['power'].str.contains('\\d', regex=True)]\n",
    "#train_data['new_power'] = train_data['new_power'].apply(lambda x: float(x))\n",
    "#test_data['year'] = test_data['year'].apply(lambda x: 2020-x)\n",
    "\n",
    "\n",
    "test_data = test_data.drop(columns=[ 'max_power', 'name'])\n",
    "\n",
    "test_data.head()"
   ]
  },
  {
   "cell_type": "code",
   "execution_count": 487,
   "id": "810f20d1",
   "metadata": {},
   "outputs": [
    {
     "data": {
      "text/html": [
       "<div>\n",
       "<style scoped>\n",
       "    .dataframe tbody tr th:only-of-type {\n",
       "        vertical-align: middle;\n",
       "    }\n",
       "\n",
       "    .dataframe tbody tr th {\n",
       "        vertical-align: top;\n",
       "    }\n",
       "\n",
       "    .dataframe thead th {\n",
       "        text-align: right;\n",
       "    }\n",
       "</style>\n",
       "<table border=\"1\" class=\"dataframe\">\n",
       "  <thead>\n",
       "    <tr style=\"text-align: right;\">\n",
       "      <th></th>\n",
       "      <th>year</th>\n",
       "      <th>selling_price</th>\n",
       "      <th>km_driven</th>\n",
       "      <th>mileage</th>\n",
       "      <th>engine</th>\n",
       "      <th>seats</th>\n",
       "    </tr>\n",
       "  </thead>\n",
       "  <tbody>\n",
       "    <tr>\n",
       "      <th>count</th>\n",
       "      <td>5840.000000</td>\n",
       "      <td>5.840000e+03</td>\n",
       "      <td>5.840000e+03</td>\n",
       "      <td>5840.000000</td>\n",
       "      <td>5840.000000</td>\n",
       "      <td>5840.000000</td>\n",
       "    </tr>\n",
       "    <tr>\n",
       "      <th>mean</th>\n",
       "      <td>2013.989555</td>\n",
       "      <td>6.501629e+05</td>\n",
       "      <td>6.944431e+04</td>\n",
       "      <td>19.389591</td>\n",
       "      <td>1464.471404</td>\n",
       "      <td>5.429110</td>\n",
       "    </tr>\n",
       "    <tr>\n",
       "      <th>std</th>\n",
       "      <td>3.852886</td>\n",
       "      <td>8.139088e+05</td>\n",
       "      <td>5.215208e+04</td>\n",
       "      <td>4.054167</td>\n",
       "      <td>508.287421</td>\n",
       "      <td>0.976575</td>\n",
       "    </tr>\n",
       "    <tr>\n",
       "      <th>min</th>\n",
       "      <td>1994.000000</td>\n",
       "      <td>3.000000e+04</td>\n",
       "      <td>1.000000e+03</td>\n",
       "      <td>0.000000</td>\n",
       "      <td>624.000000</td>\n",
       "      <td>2.000000</td>\n",
       "    </tr>\n",
       "    <tr>\n",
       "      <th>25%</th>\n",
       "      <td>2012.000000</td>\n",
       "      <td>2.700000e+05</td>\n",
       "      <td>3.500000e+04</td>\n",
       "      <td>16.780000</td>\n",
       "      <td>1197.000000</td>\n",
       "      <td>5.000000</td>\n",
       "    </tr>\n",
       "    <tr>\n",
       "      <th>50%</th>\n",
       "      <td>2015.000000</td>\n",
       "      <td>4.500000e+05</td>\n",
       "      <td>6.000000e+04</td>\n",
       "      <td>19.300000</td>\n",
       "      <td>1248.000000</td>\n",
       "      <td>5.000000</td>\n",
       "    </tr>\n",
       "    <tr>\n",
       "      <th>75%</th>\n",
       "      <td>2017.000000</td>\n",
       "      <td>6.900000e+05</td>\n",
       "      <td>9.662500e+04</td>\n",
       "      <td>22.320000</td>\n",
       "      <td>1582.000000</td>\n",
       "      <td>5.000000</td>\n",
       "    </tr>\n",
       "    <tr>\n",
       "      <th>max</th>\n",
       "      <td>2020.000000</td>\n",
       "      <td>1.000000e+07</td>\n",
       "      <td>1.500000e+06</td>\n",
       "      <td>42.000000</td>\n",
       "      <td>3604.000000</td>\n",
       "      <td>14.000000</td>\n",
       "    </tr>\n",
       "  </tbody>\n",
       "</table>\n",
       "</div>"
      ],
      "text/plain": [
       "              year  selling_price     km_driven      mileage       engine  \\\n",
       "count  5840.000000   5.840000e+03  5.840000e+03  5840.000000  5840.000000   \n",
       "mean   2013.989555   6.501629e+05  6.944431e+04    19.389591  1464.471404   \n",
       "std       3.852886   8.139088e+05  5.215208e+04     4.054167   508.287421   \n",
       "min    1994.000000   3.000000e+04  1.000000e+03     0.000000   624.000000   \n",
       "25%    2012.000000   2.700000e+05  3.500000e+04    16.780000  1197.000000   \n",
       "50%    2015.000000   4.500000e+05  6.000000e+04    19.300000  1248.000000   \n",
       "75%    2017.000000   6.900000e+05  9.662500e+04    22.320000  1582.000000   \n",
       "max    2020.000000   1.000000e+07  1.500000e+06    42.000000  3604.000000   \n",
       "\n",
       "             seats  \n",
       "count  5840.000000  \n",
       "mean      5.429110  \n",
       "std       0.976575  \n",
       "min       2.000000  \n",
       "25%       5.000000  \n",
       "50%       5.000000  \n",
       "75%       5.000000  \n",
       "max      14.000000  "
      ]
     },
     "execution_count": 487,
     "metadata": {},
     "output_type": "execute_result"
    }
   ],
   "source": [
    "train_data.describe()"
   ]
  },
  {
   "cell_type": "markdown",
   "id": "87f98e4d",
   "metadata": {},
   "source": [
    "# Data Visualization"
   ]
  },
  {
   "cell_type": "code",
   "execution_count": 488,
   "id": "8e1a312b",
   "metadata": {},
   "outputs": [],
   "source": [
    "#new_train = train_data"
   ]
  },
  {
   "cell_type": "code",
   "execution_count": 489,
   "id": "3b92a65a",
   "metadata": {},
   "outputs": [
    {
     "name": "stdout",
     "output_type": "stream",
     "text": [
      "<class 'pandas.core.frame.DataFrame'>\n",
      "RangeIndex: 5840 entries, 0 to 5839\n",
      "Data columns (total 13 columns):\n",
      " #   Column         Non-Null Count  Dtype  \n",
      "---  ------         --------------  -----  \n",
      " 0   year           5840 non-null   int64  \n",
      " 1   selling_price  5840 non-null   int64  \n",
      " 2   km_driven      5840 non-null   int64  \n",
      " 3   fuel           5840 non-null   object \n",
      " 4   seller_type    5840 non-null   object \n",
      " 5   transmission   5840 non-null   object \n",
      " 6   owner          5840 non-null   object \n",
      " 7   mileage        5840 non-null   float64\n",
      " 8   engine         5840 non-null   float64\n",
      " 9   torque         5840 non-null   object \n",
      " 10  seats          5840 non-null   float64\n",
      " 11  brand          5840 non-null   object \n",
      " 12  power          5840 non-null   object \n",
      "dtypes: float64(3), int64(3), object(7)\n",
      "memory usage: 593.2+ KB\n"
     ]
    }
   ],
   "source": [
    "train_data.info()\n"
   ]
  },
  {
   "cell_type": "markdown",
   "id": "85739133",
   "metadata": {},
   "source": [
    "# price"
   ]
  },
  {
   "cell_type": "code",
   "execution_count": 52,
   "id": "94a0a314",
   "metadata": {},
   "outputs": [
    {
     "name": "stderr",
     "output_type": "stream",
     "text": [
      "D:\\ana\\lib\\site-packages\\seaborn\\distributions.py:2557: FutureWarning: `distplot` is a deprecated function and will be removed in a future version. Please adapt your code to use either `displot` (a figure-level function with similar flexibility) or `histplot` (an axes-level function for histograms).\n",
      "  warnings.warn(msg, FutureWarning)\n"
     ]
    },
    {
     "data": {
      "text/plain": [
       "Text(0.5, 1.0, 'Distributional of selling price')"
      ]
     },
     "execution_count": 52,
     "metadata": {},
     "output_type": "execute_result"
    },
    {
     "data": {
      "image/png": "[encoded data removed]",
      "text/plain": [
       "<Figure size 1152x360 with 1 Axes>"
      ]
     },
     "metadata": {},
     "output_type": "display_data"
    }
   ],
   "source": [
    "f, axes = plt.subplots(1,1, figsize = (16, 5))\n",
    "g1 = sns.distplot(train_data[\"selling_price\"], color=\"blue\",ax = axes)\n",
    "plt.title(\"Distributional of selling price\")"
   ]
  },
  {
   "cell_type": "markdown",
   "id": "74a70de3",
   "metadata": {},
   "source": [
    "# Fuel Type"
   ]
  },
  {
   "cell_type": "code",
   "execution_count": 24,
   "id": "55e085a0",
   "metadata": {},
   "outputs": [
    {
     "data": {
      "text/plain": [
       "count       5840\n",
       "unique         4\n",
       "top       Diesel\n",
       "freq        3192\n",
       "Name: fuel, dtype: object"
      ]
     },
     "execution_count": 24,
     "metadata": {},
     "output_type": "execute_result"
    }
   ],
   "source": [
    "train_data['fuel'].describe()\n"
   ]
  },
  {
   "cell_type": "code",
   "execution_count": 25,
   "id": "5815a13a",
   "metadata": {},
   "outputs": [
    {
     "data": {
      "text/plain": [
       "Diesel    3192\n",
       "Petrol    2582\n",
       "CNG         41\n",
       "LPG         25\n",
       "Name: fuel, dtype: int64"
      ]
     },
     "execution_count": 25,
     "metadata": {},
     "output_type": "execute_result"
    }
   ],
   "source": [
    "train_data['fuel'].value_counts()"
   ]
  },
  {
   "cell_type": "code",
   "execution_count": 26,
   "id": "eaff9242",
   "metadata": {},
   "outputs": [
    {
     "data": {
      "image/png": "[encoded data removed]",
      "text/plain": [
       "<Figure size 864x576 with 1 Axes>"
      ]
     },
     "metadata": {},
     "output_type": "display_data"
    }
   ],
   "source": [
    "var = 'fuel'\n",
    "data = pd.concat([train_data['selling_price'], train_data[var]], axis=1)\n",
    "f, ax = plt.subplots(figsize=(12, 8))\n",
    "fig = sns.boxplot(x=var, y=\"selling_price\", data=data)\n",
    "fig.axis(ymin=0, ymax=1000000);"
   ]
  },
  {
   "cell_type": "code",
   "execution_count": 680,
   "id": "d0e71d20",
   "metadata": {},
   "outputs": [
    {
     "name": "stderr",
     "output_type": "stream",
     "text": [
      "D:\\ana\\lib\\site-packages\\seaborn\\categorical.py:1296: UserWarning: 81.6% of the points cannot be placed; you may want to decrease the size of the markers or use stripplot.\n",
      "  warnings.warn(msg, UserWarning)\n",
      "D:\\ana\\lib\\site-packages\\seaborn\\categorical.py:1296: UserWarning: 87.1% of the points cannot be placed; you may want to decrease the size of the markers or use stripplot.\n",
      "  warnings.warn(msg, UserWarning)\n"
     ]
    },
    {
     "data": {
      "text/plain": [
       "<AxesSubplot:xlabel='fuel', ylabel='selling_price'>"
      ]
     },
     "execution_count": 680,
     "metadata": {},
     "output_type": "execute_result"
    },
    {
     "data": {
      "image/png": "[encoded data removed]",
      "text/plain": [
       "<Figure size 842.4x595.44 with 1 Axes>"
      ]
     },
     "metadata": {},
     "output_type": "display_data"
    }
   ],
   "source": [
    "var = 'fuel'\n",
    "fig, ax = plt.subplots()\n",
    "fig.set_size_inches(11.7, 8.27)\n",
    "sns.swarmplot(x = var, y ='selling_price', data = train_data)"
   ]
  },
  {
   "cell_type": "code",
   "execution_count": 681,
   "id": "5ae9261b",
   "metadata": {},
   "outputs": [
    {
     "name": "stderr",
     "output_type": "stream",
     "text": [
      "D:\\ana\\lib\\site-packages\\seaborn\\_decorators.py:36: FutureWarning: Pass the following variables as keyword args: x, y. From version 0.12, the only valid positional argument will be `data`, and passing other arguments without an explicit keyword will result in an error or misinterpretation.\n",
      "  warnings.warn(\n"
     ]
    },
    {
     "data": {
      "text/plain": [
       "<AxesSubplot:xlabel='fuel', ylabel='selling_price'>"
      ]
     },
     "execution_count": 681,
     "metadata": {},
     "output_type": "execute_result"
    },
    {
     "data": {
      "image/png": "[encoded data removed]",
      "text/plain": [
       "<Figure size 720x504 with 1 Axes>"
      ]
     },
     "metadata": {},
     "output_type": "display_data"
    }
   ],
   "source": [
    "plt.figure(figsize=(10, 7))\n",
    "sns.barplot('fuel', 'selling_price', data=train_data)"
   ]
  },
  {
   "cell_type": "markdown",
   "id": "3d198856",
   "metadata": {},
   "source": [
    "# year"
   ]
  },
  {
   "cell_type": "code",
   "execution_count": 346,
   "id": "d76dcebe",
   "metadata": {},
   "outputs": [
    {
     "data": {
      "image/png": "[encoded data removed]",
      "text/plain": [
       "<Figure size 1440x720 with 1 Axes>"
      ]
     },
     "metadata": {},
     "output_type": "display_data"
    }
   ],
   "source": [
    "var = 'year'\n",
    "data = pd.concat([train_data['selling_price'], train_data[var]], axis=1)\n",
    "f, ax = plt.subplots(figsize=(20, 10))\n",
    "fig = sns.boxplot(x=var, y=\"selling_price\", data=data)\n",
    "fig.axis(ymin=0, ymax=10000000);\n",
    "plt.xticks(rotation=90);"
   ]
  },
  {
   "cell_type": "code",
   "execution_count": null,
   "id": "8cfa9340",
   "metadata": {},
   "outputs": [],
   "source": []
  },
  {
   "cell_type": "code",
   "execution_count": 683,
   "id": "6ffd8c8a",
   "metadata": {},
   "outputs": [
    {
     "name": "stderr",
     "output_type": "stream",
     "text": [
      "D:\\ana\\lib\\site-packages\\seaborn\\_decorators.py:36: FutureWarning: Pass the following variables as keyword args: x, y. From version 0.12, the only valid positional argument will be `data`, and passing other arguments without an explicit keyword will result in an error or misinterpretation.\n",
      "  warnings.warn(\n"
     ]
    },
    {
     "data": {
      "text/plain": [
       "<seaborn.axisgrid.FacetGrid at 0x1e68462bc70>"
      ]
     },
     "execution_count": 683,
     "metadata": {},
     "output_type": "execute_result"
    },
    {
     "data": {
      "text/plain": [
       "<Figure size 864x648 with 0 Axes>"
      ]
     },
     "metadata": {},
     "output_type": "display_data"
    },
    {
     "data": {
      "image/png": "[encoded data removed]",
      "text/plain": [
       "<Figure size 360x360 with 1 Axes>"
      ]
     },
     "metadata": {},
     "output_type": "display_data"
    }
   ],
   "source": [
    "plt.figure(figsize=(12, 9))\n",
    "sns.catplot('year', 'selling_price', data=train_data)"
   ]
  },
  {
   "cell_type": "code",
   "execution_count": 684,
   "id": "8e95dc8a",
   "metadata": {},
   "outputs": [
    {
     "name": "stderr",
     "output_type": "stream",
     "text": [
      "D:\\ana\\lib\\site-packages\\seaborn\\_decorators.py:36: FutureWarning: Pass the following variables as keyword args: x, y. From version 0.12, the only valid positional argument will be `data`, and passing other arguments without an explicit keyword will result in an error or misinterpretation.\n",
      "  warnings.warn(\n"
     ]
    },
    {
     "data": {
      "text/plain": [
       "<AxesSubplot:xlabel='year', ylabel='selling_price'>"
      ]
     },
     "execution_count": 684,
     "metadata": {},
     "output_type": "execute_result"
    },
    {
     "data": {
      "image/png": "[encoded data removed]",
      "text/plain": [
       "<Figure size 864x648 with 1 Axes>"
      ]
     },
     "metadata": {},
     "output_type": "display_data"
    }
   ],
   "source": [
    "plt.figure(figsize=(12, 9))\n",
    "sns.barplot('year', 'selling_price', data=train_data)"
   ]
  },
  {
   "cell_type": "code",
   "execution_count": 685,
   "id": "9bdac5b4",
   "metadata": {},
   "outputs": [
    {
     "name": "stderr",
     "output_type": "stream",
     "text": [
      "D:\\ana\\lib\\site-packages\\seaborn\\_decorators.py:36: FutureWarning: Pass the following variable as a keyword arg: x. From version 0.12, the only valid positional argument will be `data`, and passing other arguments without an explicit keyword will result in an error or misinterpretation.\n",
      "  warnings.warn(\n"
     ]
    },
    {
     "data": {
      "text/plain": [
       "<AxesSubplot:xlabel='year', ylabel='count'>"
      ]
     },
     "execution_count": 685,
     "metadata": {},
     "output_type": "execute_result"
    },
    {
     "data": {
      "image/png": "[encoded data removed]",
      "text/plain": [
       "<Figure size 864x648 with 1 Axes>"
      ]
     },
     "metadata": {},
     "output_type": "display_data"
    }
   ],
   "source": [
    "plt.figure(figsize=(12, 9))\n",
    "sns.countplot('year', data=train_data)"
   ]
  },
  {
   "cell_type": "markdown",
   "id": "265411f8",
   "metadata": {},
   "source": [
    "# owner"
   ]
  },
  {
   "cell_type": "code",
   "execution_count": 686,
   "id": "9b0009c0",
   "metadata": {},
   "outputs": [
    {
     "name": "stderr",
     "output_type": "stream",
     "text": [
      "D:\\ana\\lib\\site-packages\\seaborn\\_decorators.py:36: FutureWarning: Pass the following variable as a keyword arg: x. From version 0.12, the only valid positional argument will be `data`, and passing other arguments without an explicit keyword will result in an error or misinterpretation.\n",
      "  warnings.warn(\n"
     ]
    },
    {
     "data": {
      "text/plain": [
       "<AxesSubplot:xlabel='owner', ylabel='count'>"
      ]
     },
     "execution_count": 686,
     "metadata": {},
     "output_type": "execute_result"
    },
    {
     "data": {
      "image/png": "[encoded data removed]",
      "text/plain": [
       "<Figure size 576x432 with 1 Axes>"
      ]
     },
     "metadata": {},
     "output_type": "display_data"
    }
   ],
   "source": [
    "plt.figure(figsize=(8, 6))\n",
    "sns.countplot('owner', data=train_data)"
   ]
  },
  {
   "cell_type": "code",
   "execution_count": 433,
   "id": "a04ecad1",
   "metadata": {},
   "outputs": [
    {
     "data": {
      "text/plain": [
       "<AxesSubplot:xlabel='owner', ylabel='selling_price'>"
      ]
     },
     "execution_count": 433,
     "metadata": {},
     "output_type": "execute_result"
    },
    {
     "data": {
      "image/png": "[encoded data removed]",
      "text/plain": [
       "<Figure size 842.4x595.44 with 1 Axes>"
      ]
     },
     "metadata": {},
     "output_type": "display_data"
    }
   ],
   "source": [
    "var = 'owner'\n",
    "fig, ax = plt.subplots()\n",
    "fig.set_size_inches(11.7, 8.27)\n",
    "sns.stripplot(x = var, y ='selling_price', data = train_data) "
   ]
  },
  {
   "cell_type": "markdown",
   "id": "95564a73",
   "metadata": {},
   "source": [
    "# brand"
   ]
  },
  {
   "cell_type": "code",
   "execution_count": 688,
   "id": "c83d19e7",
   "metadata": {},
   "outputs": [
    {
     "data": {
      "text/plain": [
       "<Figure size 1440x720 with 0 Axes>"
      ]
     },
     "metadata": {},
     "output_type": "display_data"
    },
    {
     "data": {
      "image/png": "[encoded data removed]",
      "text/plain": [
       "<Figure size 1152x576 with 1 Axes>"
      ]
     },
     "metadata": {},
     "output_type": "display_data"
    }
   ],
   "source": [
    "var = \"brand\"\n",
    "plt.figure(figsize=(20, 10))\n",
    "sns.catplot(x=var, kind=\"count\", palette=\"ch:.25\", height=8, aspect=2, data=train_data);\n",
    "plt.xticks(rotation=90);"
   ]
  },
  {
   "cell_type": "code",
   "execution_count": 689,
   "id": "bd8f2533",
   "metadata": {},
   "outputs": [
    {
     "data": {
      "text/plain": [
       "<function matplotlib.pyplot.show(close=None, block=None)>"
      ]
     },
     "execution_count": 689,
     "metadata": {},
     "output_type": "execute_result"
    },
    {
     "data": {
      "image/png": "[encoded data removed]",
      "text/plain": [
       "<Figure size 1296x432 with 1 Axes>"
      ]
     },
     "metadata": {},
     "output_type": "display_data"
    }
   ],
   "source": [
    "sns.catplot(y='selling_price',x=var,data= train_data.sort_values('selling_price',ascending=False),kind=\"boxen\",height=6, aspect=3)\n",
    "plt.show"
   ]
  },
  {
   "cell_type": "markdown",
   "id": "463c5eff",
   "metadata": {},
   "source": [
    "# Transmission"
   ]
  },
  {
   "cell_type": "code",
   "execution_count": 690,
   "id": "abaa097a",
   "metadata": {},
   "outputs": [
    {
     "name": "stderr",
     "output_type": "stream",
     "text": [
      "D:\\ana\\lib\\site-packages\\seaborn\\_decorators.py:36: FutureWarning: Pass the following variables as keyword args: x, y. From version 0.12, the only valid positional argument will be `data`, and passing other arguments without an explicit keyword will result in an error or misinterpretation.\n",
      "  warnings.warn(\n"
     ]
    },
    {
     "data": {
      "text/plain": [
       "<seaborn.axisgrid.FacetGrid at 0x1e68348e970>"
      ]
     },
     "execution_count": 690,
     "metadata": {},
     "output_type": "execute_result"
    },
    {
     "data": {
      "text/plain": [
       "<Figure size 720x504 with 0 Axes>"
      ]
     },
     "metadata": {},
     "output_type": "display_data"
    },
    {
     "data": {
      "image/png": "[encoded data removed]",
      "text/plain": [
       "<Figure size 360x360 with 1 Axes>"
      ]
     },
     "metadata": {},
     "output_type": "display_data"
    }
   ],
   "source": [
    "plt.figure(figsize=(10, 7))\n",
    "sns.catplot('transmission', 'selling_price', data=train_data)"
   ]
  },
  {
   "cell_type": "code",
   "execution_count": 691,
   "id": "c2ebe5b1",
   "metadata": {},
   "outputs": [
    {
     "name": "stderr",
     "output_type": "stream",
     "text": [
      "D:\\ana\\lib\\site-packages\\seaborn\\_decorators.py:36: FutureWarning: Pass the following variable as a keyword arg: x. From version 0.12, the only valid positional argument will be `data`, and passing other arguments without an explicit keyword will result in an error or misinterpretation.\n",
      "  warnings.warn(\n"
     ]
    },
    {
     "data": {
      "text/plain": [
       "<AxesSubplot:xlabel='transmission', ylabel='count'>"
      ]
     },
     "execution_count": 691,
     "metadata": {},
     "output_type": "execute_result"
    },
    {
     "data": {
      "image/png": "[encoded data removed]",
      "text/plain": [
       "<Figure size 576x432 with 1 Axes>"
      ]
     },
     "metadata": {},
     "output_type": "display_data"
    }
   ],
   "source": [
    "plt.figure(figsize=(8, 6))\n",
    "sns.countplot('transmission', data=train_data)"
   ]
  },
  {
   "cell_type": "code",
   "execution_count": 692,
   "id": "c606d1b0",
   "metadata": {},
   "outputs": [
    {
     "name": "stderr",
     "output_type": "stream",
     "text": [
      "D:\\ana\\lib\\site-packages\\seaborn\\_decorators.py:36: FutureWarning: Pass the following variables as keyword args: x, y. From version 0.12, the only valid positional argument will be `data`, and passing other arguments without an explicit keyword will result in an error or misinterpretation.\n",
      "  warnings.warn(\n"
     ]
    },
    {
     "data": {
      "text/plain": [
       "<AxesSubplot:xlabel='transmission', ylabel='selling_price'>"
      ]
     },
     "execution_count": 692,
     "metadata": {},
     "output_type": "execute_result"
    },
    {
     "data": {
      "image/png": "[encoded data removed]",
      "text/plain": [
       "<Figure size 720x504 with 1 Axes>"
      ]
     },
     "metadata": {},
     "output_type": "display_data"
    }
   ],
   "source": [
    "plt.figure(figsize=(10, 7))\n",
    "sns.barplot('transmission', 'selling_price', data=train_data)"
   ]
  },
  {
   "cell_type": "markdown",
   "id": "faa73ba2",
   "metadata": {},
   "source": [
    "# km_driven"
   ]
  },
  {
   "cell_type": "code",
   "execution_count": 347,
   "id": "e4f4f54c",
   "metadata": {},
   "outputs": [
    {
     "data": {
      "text/plain": [
       "<matplotlib.collections.PathCollection at 0x22c84932af0>"
      ]
     },
     "execution_count": 347,
     "metadata": {},
     "output_type": "execute_result"
    },
    {
     "data": {
      "image/png": "[encoded data removed]",
      "text/plain": [
       "<Figure size 720x504 with 1 Axes>"
      ]
     },
     "metadata": {},
     "output_type": "display_data"
    }
   ],
   "source": [
    "plt.figure(figsize=(10, 7))\n",
    "plt.scatter(train_data['km_driven'], train_data['selling_price'])"
   ]
  },
  {
   "cell_type": "code",
   "execution_count": 110,
   "id": "0d12b7c0",
   "metadata": {},
   "outputs": [
    {
     "data": {
      "text/plain": [
       "<AxesSubplot:xlabel='km_driven'>"
      ]
     },
     "execution_count": 110,
     "metadata": {},
     "output_type": "execute_result"
    },
    {
     "data": {
      "image/png": "[encoded data removed]",
      "text/plain": [
       "<Figure size 432x288 with 1 Axes>"
      ]
     },
     "metadata": {},
     "output_type": "display_data"
    }
   ],
   "source": [
    "sns.boxplot(x=train_data['km_driven'])"
   ]
  },
  {
   "cell_type": "code",
   "execution_count": 490,
   "id": "e9f2fe45",
   "metadata": {},
   "outputs": [
    {
     "data": {
      "text/plain": [
       "1"
      ]
     },
     "execution_count": 490,
     "metadata": {},
     "output_type": "execute_result"
    }
   ],
   "source": [
    "train_data['km_driven'][train_data['km_driven']>600000].count()\n",
    "#a= train_data['seats']\n",
    "#a[a>800000].count()"
   ]
  },
  {
   "cell_type": "markdown",
   "id": "c3436d5f",
   "metadata": {},
   "source": [
    "# bỏ outlier km_driven"
   ]
  },
  {
   "cell_type": "code",
   "execution_count": 491,
   "id": "5993809f",
   "metadata": {},
   "outputs": [],
   "source": [
    "out_row=np.where(train_data['km_driven']>=600000)\n",
    "for i in out_row:\n",
    "    train_data.drop(i, inplace=True)"
   ]
  },
  {
   "cell_type": "markdown",
   "id": "e0bffc23",
   "metadata": {},
   "source": [
    "# Generating new feature 'is_kilometers_driven_less_70k' would be useful"
   ]
  },
  {
   "cell_type": "code",
   "execution_count": 492,
   "id": "d74f30e0",
   "metadata": {},
   "outputs": [
    {
     "data": {
      "text/plain": [
       "Diesel    3191\n",
       "Petrol    2582\n",
       "CNG         41\n",
       "LPG         25\n",
       "Name: fuel, dtype: int64"
      ]
     },
     "execution_count": 492,
     "metadata": {},
     "output_type": "execute_result"
    }
   ],
   "source": [
    "train_data['fuel'].value_counts()\n",
    "#new_train['transmission'].value_counts()\n",
    "#new_train['brand'].value_counts()\n",
    "#new_train['owner'].value_counts()\n",
    "#new_train['seller_type'].value_counts()seller_type"
   ]
  },
  {
   "cell_type": "code",
   "execution_count": 493,
   "id": "d9dad735",
   "metadata": {},
   "outputs": [],
   "source": [
    "# convert the values of 'fuel' column to numerical format\n",
    "#z = lambda x: 0 if x == 'Diesel' else (1 if x == 'Petrol' else (2 if x == 'CNG' else(3 if x == 'LPG'else 4)))\n",
    "#train_data['fuel'] = train_data['fuel'].apply(z)"
   ]
  },
  {
   "cell_type": "code",
   "execution_count": 494,
   "id": "484ec933",
   "metadata": {},
   "outputs": [],
   "source": [
    "# convert the values of 'fuel' column to numerical format\n",
    "#z = lambda x: 0 if x == 'Diesel' else (1 if x == 'Petrol' else (2 if x == 'CNG' else(3 if x == 'LPG'else 4)))\n",
    "#test_data['fuel'] = test_data['fuel'].apply(z)"
   ]
  },
  {
   "cell_type": "code",
   "execution_count": 495,
   "id": "ceae2310",
   "metadata": {},
   "outputs": [
    {
     "data": {
      "text/html": [
       "<div>\n",
       "<style scoped>\n",
       "    .dataframe tbody tr th:only-of-type {\n",
       "        vertical-align: middle;\n",
       "    }\n",
       "\n",
       "    .dataframe tbody tr th {\n",
       "        vertical-align: top;\n",
       "    }\n",
       "\n",
       "    .dataframe thead th {\n",
       "        text-align: right;\n",
       "    }\n",
       "</style>\n",
       "<table border=\"1\" class=\"dataframe\">\n",
       "  <thead>\n",
       "    <tr style=\"text-align: right;\">\n",
       "      <th></th>\n",
       "      <th>fuel_Diesel</th>\n",
       "      <th>fuel_LPG</th>\n",
       "      <th>fuel_Petrol</th>\n",
       "    </tr>\n",
       "  </thead>\n",
       "  <tbody>\n",
       "    <tr>\n",
       "      <th>0</th>\n",
       "      <td>1</td>\n",
       "      <td>0</td>\n",
       "      <td>0</td>\n",
       "    </tr>\n",
       "    <tr>\n",
       "      <th>1</th>\n",
       "      <td>1</td>\n",
       "      <td>0</td>\n",
       "      <td>0</td>\n",
       "    </tr>\n",
       "    <tr>\n",
       "      <th>2</th>\n",
       "      <td>1</td>\n",
       "      <td>0</td>\n",
       "      <td>0</td>\n",
       "    </tr>\n",
       "    <tr>\n",
       "      <th>3</th>\n",
       "      <td>0</td>\n",
       "      <td>0</td>\n",
       "      <td>1</td>\n",
       "    </tr>\n",
       "    <tr>\n",
       "      <th>4</th>\n",
       "      <td>1</td>\n",
       "      <td>0</td>\n",
       "      <td>0</td>\n",
       "    </tr>\n",
       "  </tbody>\n",
       "</table>\n",
       "</div>"
      ],
      "text/plain": [
       "   fuel_Diesel  fuel_LPG  fuel_Petrol\n",
       "0            1         0            0\n",
       "1            1         0            0\n",
       "2            1         0            0\n",
       "3            0         0            1\n",
       "4            1         0            0"
      ]
     },
     "execution_count": 495,
     "metadata": {},
     "output_type": "execute_result"
    }
   ],
   "source": [
    "Fuel_type = train_data[['fuel']]\n",
    "Fuel_type = pd.get_dummies(Fuel_type,drop_first=True)\n",
    "Fuel_type.head()"
   ]
  },
  {
   "cell_type": "code",
   "execution_count": 496,
   "id": "507b7d00",
   "metadata": {},
   "outputs": [
    {
     "data": {
      "text/html": [
       "<div>\n",
       "<style scoped>\n",
       "    .dataframe tbody tr th:only-of-type {\n",
       "        vertical-align: middle;\n",
       "    }\n",
       "\n",
       "    .dataframe tbody tr th {\n",
       "        vertical-align: top;\n",
       "    }\n",
       "\n",
       "    .dataframe thead th {\n",
       "        text-align: right;\n",
       "    }\n",
       "</style>\n",
       "<table border=\"1\" class=\"dataframe\">\n",
       "  <thead>\n",
       "    <tr style=\"text-align: right;\">\n",
       "      <th></th>\n",
       "      <th>fuel_Diesel</th>\n",
       "      <th>fuel_LPG</th>\n",
       "      <th>fuel_Petrol</th>\n",
       "    </tr>\n",
       "  </thead>\n",
       "  <tbody>\n",
       "    <tr>\n",
       "      <th>0</th>\n",
       "      <td>0</td>\n",
       "      <td>0</td>\n",
       "      <td>1</td>\n",
       "    </tr>\n",
       "    <tr>\n",
       "      <th>1</th>\n",
       "      <td>0</td>\n",
       "      <td>0</td>\n",
       "      <td>1</td>\n",
       "    </tr>\n",
       "    <tr>\n",
       "      <th>2</th>\n",
       "      <td>0</td>\n",
       "      <td>0</td>\n",
       "      <td>1</td>\n",
       "    </tr>\n",
       "    <tr>\n",
       "      <th>3</th>\n",
       "      <td>1</td>\n",
       "      <td>0</td>\n",
       "      <td>0</td>\n",
       "    </tr>\n",
       "    <tr>\n",
       "      <th>4</th>\n",
       "      <td>1</td>\n",
       "      <td>0</td>\n",
       "      <td>0</td>\n",
       "    </tr>\n",
       "  </tbody>\n",
       "</table>\n",
       "</div>"
      ],
      "text/plain": [
       "   fuel_Diesel  fuel_LPG  fuel_Petrol\n",
       "0            0         0            1\n",
       "1            0         0            1\n",
       "2            0         0            1\n",
       "3            1         0            0\n",
       "4            1         0            0"
      ]
     },
     "execution_count": 496,
     "metadata": {},
     "output_type": "execute_result"
    }
   ],
   "source": [
    "Fuel_type_test = test_data[['fuel']]\n",
    "Fuel_type_test = pd.get_dummies(Fuel_type_test,drop_first=True)\n",
    "Fuel_type_test.head()"
   ]
  },
  {
   "cell_type": "markdown",
   "id": "b014ecff",
   "metadata": {},
   "source": [
    "# owner"
   ]
  },
  {
   "cell_type": "code",
   "execution_count": 497,
   "id": "0361d485",
   "metadata": {},
   "outputs": [
    {
     "data": {
      "text/html": [
       "<div>\n",
       "<style scoped>\n",
       "    .dataframe tbody tr th:only-of-type {\n",
       "        vertical-align: middle;\n",
       "    }\n",
       "\n",
       "    .dataframe tbody tr th {\n",
       "        vertical-align: top;\n",
       "    }\n",
       "\n",
       "    .dataframe thead th {\n",
       "        text-align: right;\n",
       "    }\n",
       "</style>\n",
       "<table border=\"1\" class=\"dataframe\">\n",
       "  <thead>\n",
       "    <tr style=\"text-align: right;\">\n",
       "      <th></th>\n",
       "      <th>year</th>\n",
       "      <th>selling_price</th>\n",
       "      <th>km_driven</th>\n",
       "      <th>fuel</th>\n",
       "      <th>seller_type</th>\n",
       "      <th>transmission</th>\n",
       "      <th>owner</th>\n",
       "      <th>mileage</th>\n",
       "      <th>engine</th>\n",
       "      <th>torque</th>\n",
       "      <th>seats</th>\n",
       "      <th>brand</th>\n",
       "      <th>power</th>\n",
       "    </tr>\n",
       "  </thead>\n",
       "  <tbody>\n",
       "    <tr>\n",
       "      <th>0</th>\n",
       "      <td>2018</td>\n",
       "      <td>850000</td>\n",
       "      <td>9500</td>\n",
       "      <td>Diesel</td>\n",
       "      <td>Individual</td>\n",
       "      <td>Manual</td>\n",
       "      <td>1</td>\n",
       "      <td>21.50</td>\n",
       "      <td>1497.0</td>\n",
       "      <td>260Nm@ 1500-2750rpm</td>\n",
       "      <td>5.0</td>\n",
       "      <td>Tata</td>\n",
       "      <td>108.5</td>\n",
       "    </tr>\n",
       "    <tr>\n",
       "      <th>1</th>\n",
       "      <td>2018</td>\n",
       "      <td>750000</td>\n",
       "      <td>30000</td>\n",
       "      <td>Diesel</td>\n",
       "      <td>Individual</td>\n",
       "      <td>Manual</td>\n",
       "      <td>1</td>\n",
       "      <td>21.19</td>\n",
       "      <td>1396.0</td>\n",
       "      <td>219.66nm@ 1500-2750rpm</td>\n",
       "      <td>5.0</td>\n",
       "      <td>Hyundai</td>\n",
       "      <td>88.76</td>\n",
       "    </tr>\n",
       "    <tr>\n",
       "      <th>2</th>\n",
       "      <td>2015</td>\n",
       "      <td>1500000</td>\n",
       "      <td>80000</td>\n",
       "      <td>Diesel</td>\n",
       "      <td>Individual</td>\n",
       "      <td>Automatic</td>\n",
       "      <td>2</td>\n",
       "      <td>12.55</td>\n",
       "      <td>2982.0</td>\n",
       "      <td>360Nm@ 1400-3200rpm</td>\n",
       "      <td>7.0</td>\n",
       "      <td>Toyota</td>\n",
       "      <td>168.5</td>\n",
       "    </tr>\n",
       "    <tr>\n",
       "      <th>3</th>\n",
       "      <td>2015</td>\n",
       "      <td>795000</td>\n",
       "      <td>35000</td>\n",
       "      <td>Petrol</td>\n",
       "      <td>Individual</td>\n",
       "      <td>Manual</td>\n",
       "      <td>1</td>\n",
       "      <td>17.01</td>\n",
       "      <td>1591.0</td>\n",
       "      <td>154.9Nm@ 4200rpm</td>\n",
       "      <td>5.0</td>\n",
       "      <td>Hyundai</td>\n",
       "      <td>121.3</td>\n",
       "    </tr>\n",
       "    <tr>\n",
       "      <th>4</th>\n",
       "      <td>2019</td>\n",
       "      <td>3800000</td>\n",
       "      <td>20000</td>\n",
       "      <td>Diesel</td>\n",
       "      <td>Individual</td>\n",
       "      <td>Automatic</td>\n",
       "      <td>1</td>\n",
       "      <td>18.00</td>\n",
       "      <td>1969.0</td>\n",
       "      <td>400Nm</td>\n",
       "      <td>5.0</td>\n",
       "      <td>Volvo</td>\n",
       "      <td>190</td>\n",
       "    </tr>\n",
       "  </tbody>\n",
       "</table>\n",
       "</div>"
      ],
      "text/plain": [
       "   year  selling_price  km_driven    fuel seller_type transmission  owner  \\\n",
       "0  2018         850000       9500  Diesel  Individual       Manual      1   \n",
       "1  2018         750000      30000  Diesel  Individual       Manual      1   \n",
       "2  2015        1500000      80000  Diesel  Individual    Automatic      2   \n",
       "3  2015         795000      35000  Petrol  Individual       Manual      1   \n",
       "4  2019        3800000      20000  Diesel  Individual    Automatic      1   \n",
       "\n",
       "   mileage  engine                  torque  seats    brand  power  \n",
       "0    21.50  1497.0     260Nm@ 1500-2750rpm    5.0     Tata  108.5  \n",
       "1    21.19  1396.0  219.66nm@ 1500-2750rpm    5.0  Hyundai  88.76  \n",
       "2    12.55  2982.0     360Nm@ 1400-3200rpm    7.0   Toyota  168.5  \n",
       "3    17.01  1591.0        154.9Nm@ 4200rpm    5.0  Hyundai  121.3  \n",
       "4    18.00  1969.0                   400Nm    5.0    Volvo    190  "
      ]
     },
     "execution_count": 497,
     "metadata": {},
     "output_type": "execute_result"
    }
   ],
   "source": [
    "train_data.replace({'owner':{'First Owner': 1, 'Second Owner': 2, 'Third Owner': 3, 'Fourth & Above Owner': 4,'Test Drive Car':1}}, inplace=True)\n",
    "train_data.head()\n"
   ]
  },
  {
   "cell_type": "code",
   "execution_count": 498,
   "id": "62c226d7",
   "metadata": {},
   "outputs": [
    {
     "data": {
      "text/plain": [
       "1    3854\n",
       "2    1495\n",
       "3     377\n",
       "4     113\n",
       "Name: owner, dtype: int64"
      ]
     },
     "execution_count": 498,
     "metadata": {},
     "output_type": "execute_result"
    }
   ],
   "source": [
    "train_data['owner'].value_counts()\n"
   ]
  },
  {
   "cell_type": "code",
   "execution_count": null,
   "id": "e924f815",
   "metadata": {},
   "outputs": [],
   "source": []
  },
  {
   "cell_type": "code",
   "execution_count": 499,
   "id": "25fb5fc9",
   "metadata": {},
   "outputs": [
    {
     "data": {
      "text/html": [
       "<div>\n",
       "<style scoped>\n",
       "    .dataframe tbody tr th:only-of-type {\n",
       "        vertical-align: middle;\n",
       "    }\n",
       "\n",
       "    .dataframe tbody tr th {\n",
       "        vertical-align: top;\n",
       "    }\n",
       "\n",
       "    .dataframe thead th {\n",
       "        text-align: right;\n",
       "    }\n",
       "</style>\n",
       "<table border=\"1\" class=\"dataframe\">\n",
       "  <thead>\n",
       "    <tr style=\"text-align: right;\">\n",
       "      <th></th>\n",
       "      <th>Id</th>\n",
       "      <th>year</th>\n",
       "      <th>km_driven</th>\n",
       "      <th>fuel</th>\n",
       "      <th>seller_type</th>\n",
       "      <th>transmission</th>\n",
       "      <th>owner</th>\n",
       "      <th>mileage</th>\n",
       "      <th>engine</th>\n",
       "      <th>torque</th>\n",
       "      <th>seats</th>\n",
       "      <th>brand</th>\n",
       "      <th>power</th>\n",
       "    </tr>\n",
       "  </thead>\n",
       "  <tbody>\n",
       "    <tr>\n",
       "      <th>0</th>\n",
       "      <td>1</td>\n",
       "      <td>2016</td>\n",
       "      <td>11000</td>\n",
       "      <td>Petrol</td>\n",
       "      <td>Dealer</td>\n",
       "      <td>Automatic</td>\n",
       "      <td>1</td>\n",
       "      <td>14.30</td>\n",
       "      <td>1598.0</td>\n",
       "      <td>153Nm@ 3800rpm</td>\n",
       "      <td>5.0</td>\n",
       "      <td>Skoda</td>\n",
       "      <td>103.5</td>\n",
       "    </tr>\n",
       "    <tr>\n",
       "      <th>1</th>\n",
       "      <td>2</td>\n",
       "      <td>2017</td>\n",
       "      <td>35000</td>\n",
       "      <td>Petrol</td>\n",
       "      <td>Individual</td>\n",
       "      <td>Manual</td>\n",
       "      <td>1</td>\n",
       "      <td>17.80</td>\n",
       "      <td>1497.0</td>\n",
       "      <td>145Nm@ 4600rpm</td>\n",
       "      <td>5.0</td>\n",
       "      <td>Honda</td>\n",
       "      <td>117.3</td>\n",
       "    </tr>\n",
       "    <tr>\n",
       "      <th>2</th>\n",
       "      <td>3</td>\n",
       "      <td>2014</td>\n",
       "      <td>80000</td>\n",
       "      <td>Petrol</td>\n",
       "      <td>Individual</td>\n",
       "      <td>Manual</td>\n",
       "      <td>1</td>\n",
       "      <td>19.10</td>\n",
       "      <td>1197.0</td>\n",
       "      <td>114Nm@ 4000rpm</td>\n",
       "      <td>5.0</td>\n",
       "      <td>Hyundai</td>\n",
       "      <td>82</td>\n",
       "    </tr>\n",
       "    <tr>\n",
       "      <th>3</th>\n",
       "      <td>4</td>\n",
       "      <td>2014</td>\n",
       "      <td>145241</td>\n",
       "      <td>Diesel</td>\n",
       "      <td>Individual</td>\n",
       "      <td>Manual</td>\n",
       "      <td>1</td>\n",
       "      <td>12.05</td>\n",
       "      <td>2179.0</td>\n",
       "      <td>290Nm@ 1800-2800rpm</td>\n",
       "      <td>7.0</td>\n",
       "      <td>Mahindra</td>\n",
       "      <td>120</td>\n",
       "    </tr>\n",
       "    <tr>\n",
       "      <th>4</th>\n",
       "      <td>5</td>\n",
       "      <td>2015</td>\n",
       "      <td>92651</td>\n",
       "      <td>Diesel</td>\n",
       "      <td>Dealer</td>\n",
       "      <td>Manual</td>\n",
       "      <td>1</td>\n",
       "      <td>21.70</td>\n",
       "      <td>1498.0</td>\n",
       "      <td>215Nm@ 1750-2500rpm</td>\n",
       "      <td>5.0</td>\n",
       "      <td>Ford</td>\n",
       "      <td>98.96</td>\n",
       "    </tr>\n",
       "  </tbody>\n",
       "</table>\n",
       "</div>"
      ],
      "text/plain": [
       "   Id  year  km_driven    fuel seller_type transmission  owner  mileage  \\\n",
       "0   1  2016      11000  Petrol      Dealer    Automatic      1    14.30   \n",
       "1   2  2017      35000  Petrol  Individual       Manual      1    17.80   \n",
       "2   3  2014      80000  Petrol  Individual       Manual      1    19.10   \n",
       "3   4  2014     145241  Diesel  Individual       Manual      1    12.05   \n",
       "4   5  2015      92651  Diesel      Dealer       Manual      1    21.70   \n",
       "\n",
       "   engine               torque  seats     brand  power  \n",
       "0  1598.0       153Nm@ 3800rpm    5.0     Skoda  103.5  \n",
       "1  1497.0       145Nm@ 4600rpm    5.0     Honda  117.3  \n",
       "2  1197.0       114Nm@ 4000rpm    5.0   Hyundai     82  \n",
       "3  2179.0  290Nm@ 1800-2800rpm    7.0  Mahindra    120  \n",
       "4  1498.0  215Nm@ 1750-2500rpm    5.0      Ford  98.96  "
      ]
     },
     "execution_count": 499,
     "metadata": {},
     "output_type": "execute_result"
    }
   ],
   "source": [
    "test_data.replace({'owner':{'First Owner': 1, 'Second Owner': 2, 'Third Owner': 3, 'Fourth & Above Owner': 4,'Test Drive Car':1}}, inplace=True)\n",
    "test_data.head()\n"
   ]
  },
  {
   "cell_type": "code",
   "execution_count": 500,
   "id": "b90d6937",
   "metadata": {},
   "outputs": [
    {
     "data": {
      "text/html": [
       "<div>\n",
       "<style scoped>\n",
       "    .dataframe tbody tr th:only-of-type {\n",
       "        vertical-align: middle;\n",
       "    }\n",
       "\n",
       "    .dataframe tbody tr th {\n",
       "        vertical-align: top;\n",
       "    }\n",
       "\n",
       "    .dataframe thead th {\n",
       "        text-align: right;\n",
       "    }\n",
       "</style>\n",
       "<table border=\"1\" class=\"dataframe\">\n",
       "  <thead>\n",
       "    <tr style=\"text-align: right;\">\n",
       "      <th></th>\n",
       "      <th>transmission_Manual</th>\n",
       "    </tr>\n",
       "  </thead>\n",
       "  <tbody>\n",
       "    <tr>\n",
       "      <th>0</th>\n",
       "      <td>1</td>\n",
       "    </tr>\n",
       "    <tr>\n",
       "      <th>1</th>\n",
       "      <td>1</td>\n",
       "    </tr>\n",
       "    <tr>\n",
       "      <th>2</th>\n",
       "      <td>0</td>\n",
       "    </tr>\n",
       "    <tr>\n",
       "      <th>3</th>\n",
       "      <td>1</td>\n",
       "    </tr>\n",
       "    <tr>\n",
       "      <th>4</th>\n",
       "      <td>0</td>\n",
       "    </tr>\n",
       "  </tbody>\n",
       "</table>\n",
       "</div>"
      ],
      "text/plain": [
       "   transmission_Manual\n",
       "0                    1\n",
       "1                    1\n",
       "2                    0\n",
       "3                    1\n",
       "4                    0"
      ]
     },
     "execution_count": 500,
     "metadata": {},
     "output_type": "execute_result"
    }
   ],
   "source": [
    "transmission = train_data[['transmission']]\n",
    "transmission = pd.get_dummies(data=transmission,drop_first=True)\n",
    "transmission.head()"
   ]
  },
  {
   "cell_type": "code",
   "execution_count": 501,
   "id": "8cf71359",
   "metadata": {},
   "outputs": [
    {
     "data": {
      "text/html": [
       "<div>\n",
       "<style scoped>\n",
       "    .dataframe tbody tr th:only-of-type {\n",
       "        vertical-align: middle;\n",
       "    }\n",
       "\n",
       "    .dataframe tbody tr th {\n",
       "        vertical-align: top;\n",
       "    }\n",
       "\n",
       "    .dataframe thead th {\n",
       "        text-align: right;\n",
       "    }\n",
       "</style>\n",
       "<table border=\"1\" class=\"dataframe\">\n",
       "  <thead>\n",
       "    <tr style=\"text-align: right;\">\n",
       "      <th></th>\n",
       "      <th>transmission_Manual</th>\n",
       "    </tr>\n",
       "  </thead>\n",
       "  <tbody>\n",
       "    <tr>\n",
       "      <th>0</th>\n",
       "      <td>0</td>\n",
       "    </tr>\n",
       "    <tr>\n",
       "      <th>1</th>\n",
       "      <td>1</td>\n",
       "    </tr>\n",
       "    <tr>\n",
       "      <th>2</th>\n",
       "      <td>1</td>\n",
       "    </tr>\n",
       "    <tr>\n",
       "      <th>3</th>\n",
       "      <td>1</td>\n",
       "    </tr>\n",
       "    <tr>\n",
       "      <th>4</th>\n",
       "      <td>1</td>\n",
       "    </tr>\n",
       "  </tbody>\n",
       "</table>\n",
       "</div>"
      ],
      "text/plain": [
       "   transmission_Manual\n",
       "0                    0\n",
       "1                    1\n",
       "2                    1\n",
       "3                    1\n",
       "4                    1"
      ]
     },
     "execution_count": 501,
     "metadata": {},
     "output_type": "execute_result"
    }
   ],
   "source": [
    "transmission_test = test_data[['transmission']]\n",
    "transmission_test = pd.get_dummies(data=transmission_test,drop_first=True)\n",
    "transmission_test.head()"
   ]
  },
  {
   "cell_type": "code",
   "execution_count": 502,
   "id": "b775b9f5",
   "metadata": {},
   "outputs": [
    {
     "data": {
      "text/html": [
       "<div>\n",
       "<style scoped>\n",
       "    .dataframe tbody tr th:only-of-type {\n",
       "        vertical-align: middle;\n",
       "    }\n",
       "\n",
       "    .dataframe tbody tr th {\n",
       "        vertical-align: top;\n",
       "    }\n",
       "\n",
       "    .dataframe thead th {\n",
       "        text-align: right;\n",
       "    }\n",
       "</style>\n",
       "<table border=\"1\" class=\"dataframe\">\n",
       "  <thead>\n",
       "    <tr style=\"text-align: right;\">\n",
       "      <th></th>\n",
       "      <th>seller_type_Individual</th>\n",
       "      <th>seller_type_Trustmark Dealer</th>\n",
       "    </tr>\n",
       "  </thead>\n",
       "  <tbody>\n",
       "    <tr>\n",
       "      <th>0</th>\n",
       "      <td>1</td>\n",
       "      <td>0</td>\n",
       "    </tr>\n",
       "    <tr>\n",
       "      <th>1</th>\n",
       "      <td>1</td>\n",
       "      <td>0</td>\n",
       "    </tr>\n",
       "    <tr>\n",
       "      <th>2</th>\n",
       "      <td>1</td>\n",
       "      <td>0</td>\n",
       "    </tr>\n",
       "    <tr>\n",
       "      <th>3</th>\n",
       "      <td>1</td>\n",
       "      <td>0</td>\n",
       "    </tr>\n",
       "    <tr>\n",
       "      <th>4</th>\n",
       "      <td>1</td>\n",
       "      <td>0</td>\n",
       "    </tr>\n",
       "  </tbody>\n",
       "</table>\n",
       "</div>"
      ],
      "text/plain": [
       "   seller_type_Individual  seller_type_Trustmark Dealer\n",
       "0                       1                             0\n",
       "1                       1                             0\n",
       "2                       1                             0\n",
       "3                       1                             0\n",
       "4                       1                             0"
      ]
     },
     "execution_count": 502,
     "metadata": {},
     "output_type": "execute_result"
    }
   ],
   "source": [
    "seller_type = train_data[['seller_type']]\n",
    "seller_type = pd.get_dummies(seller_type,drop_first=True)\n",
    "seller_type.head()"
   ]
  },
  {
   "cell_type": "code",
   "execution_count": 503,
   "id": "31ee647b",
   "metadata": {
    "scrolled": true
   },
   "outputs": [
    {
     "data": {
      "text/html": [
       "<div>\n",
       "<style scoped>\n",
       "    .dataframe tbody tr th:only-of-type {\n",
       "        vertical-align: middle;\n",
       "    }\n",
       "\n",
       "    .dataframe tbody tr th {\n",
       "        vertical-align: top;\n",
       "    }\n",
       "\n",
       "    .dataframe thead th {\n",
       "        text-align: right;\n",
       "    }\n",
       "</style>\n",
       "<table border=\"1\" class=\"dataframe\">\n",
       "  <thead>\n",
       "    <tr style=\"text-align: right;\">\n",
       "      <th></th>\n",
       "      <th>seller_type_Individual</th>\n",
       "      <th>seller_type_Trustmark Dealer</th>\n",
       "    </tr>\n",
       "  </thead>\n",
       "  <tbody>\n",
       "    <tr>\n",
       "      <th>0</th>\n",
       "      <td>0</td>\n",
       "      <td>0</td>\n",
       "    </tr>\n",
       "    <tr>\n",
       "      <th>1</th>\n",
       "      <td>1</td>\n",
       "      <td>0</td>\n",
       "    </tr>\n",
       "    <tr>\n",
       "      <th>2</th>\n",
       "      <td>1</td>\n",
       "      <td>0</td>\n",
       "    </tr>\n",
       "    <tr>\n",
       "      <th>3</th>\n",
       "      <td>1</td>\n",
       "      <td>0</td>\n",
       "    </tr>\n",
       "    <tr>\n",
       "      <th>4</th>\n",
       "      <td>0</td>\n",
       "      <td>0</td>\n",
       "    </tr>\n",
       "  </tbody>\n",
       "</table>\n",
       "</div>"
      ],
      "text/plain": [
       "   seller_type_Individual  seller_type_Trustmark Dealer\n",
       "0                       0                             0\n",
       "1                       1                             0\n",
       "2                       1                             0\n",
       "3                       1                             0\n",
       "4                       0                             0"
      ]
     },
     "execution_count": 503,
     "metadata": {},
     "output_type": "execute_result"
    }
   ],
   "source": [
    "seller_type_test = test_data[['seller_type']]\n",
    "seller_type_test = pd.get_dummies(seller_type_test,drop_first=True)\n",
    "seller_type_test.head()"
   ]
  },
  {
   "cell_type": "code",
   "execution_count": 504,
   "id": "2ab2154f",
   "metadata": {},
   "outputs": [
    {
     "data": {
      "text/html": [
       "<div>\n",
       "<style scoped>\n",
       "    .dataframe tbody tr th:only-of-type {\n",
       "        vertical-align: middle;\n",
       "    }\n",
       "\n",
       "    .dataframe tbody tr th {\n",
       "        vertical-align: top;\n",
       "    }\n",
       "\n",
       "    .dataframe thead th {\n",
       "        text-align: right;\n",
       "    }\n",
       "</style>\n",
       "<table border=\"1\" class=\"dataframe\">\n",
       "  <thead>\n",
       "    <tr style=\"text-align: right;\">\n",
       "      <th></th>\n",
       "      <th>year</th>\n",
       "      <th>selling_price</th>\n",
       "      <th>km_driven</th>\n",
       "      <th>fuel</th>\n",
       "      <th>seller_type</th>\n",
       "      <th>transmission</th>\n",
       "      <th>owner</th>\n",
       "      <th>mileage</th>\n",
       "      <th>engine</th>\n",
       "      <th>torque</th>\n",
       "      <th>seats</th>\n",
       "      <th>brand</th>\n",
       "      <th>power</th>\n",
       "    </tr>\n",
       "  </thead>\n",
       "  <tbody>\n",
       "    <tr>\n",
       "      <th>0</th>\n",
       "      <td>2018</td>\n",
       "      <td>850000</td>\n",
       "      <td>9500</td>\n",
       "      <td>Diesel</td>\n",
       "      <td>Individual</td>\n",
       "      <td>Manual</td>\n",
       "      <td>1</td>\n",
       "      <td>21.50</td>\n",
       "      <td>1497.0</td>\n",
       "      <td>260Nm@ 1500-2750rpm</td>\n",
       "      <td>5.0</td>\n",
       "      <td>Tata</td>\n",
       "      <td>108.5</td>\n",
       "    </tr>\n",
       "    <tr>\n",
       "      <th>1</th>\n",
       "      <td>2018</td>\n",
       "      <td>750000</td>\n",
       "      <td>30000</td>\n",
       "      <td>Diesel</td>\n",
       "      <td>Individual</td>\n",
       "      <td>Manual</td>\n",
       "      <td>1</td>\n",
       "      <td>21.19</td>\n",
       "      <td>1396.0</td>\n",
       "      <td>219.66nm@ 1500-2750rpm</td>\n",
       "      <td>5.0</td>\n",
       "      <td>Hyundai</td>\n",
       "      <td>88.76</td>\n",
       "    </tr>\n",
       "    <tr>\n",
       "      <th>2</th>\n",
       "      <td>2015</td>\n",
       "      <td>1500000</td>\n",
       "      <td>80000</td>\n",
       "      <td>Diesel</td>\n",
       "      <td>Individual</td>\n",
       "      <td>Automatic</td>\n",
       "      <td>2</td>\n",
       "      <td>12.55</td>\n",
       "      <td>2982.0</td>\n",
       "      <td>360Nm@ 1400-3200rpm</td>\n",
       "      <td>7.0</td>\n",
       "      <td>Toyota</td>\n",
       "      <td>168.5</td>\n",
       "    </tr>\n",
       "    <tr>\n",
       "      <th>3</th>\n",
       "      <td>2015</td>\n",
       "      <td>795000</td>\n",
       "      <td>35000</td>\n",
       "      <td>Petrol</td>\n",
       "      <td>Individual</td>\n",
       "      <td>Manual</td>\n",
       "      <td>1</td>\n",
       "      <td>17.01</td>\n",
       "      <td>1591.0</td>\n",
       "      <td>154.9Nm@ 4200rpm</td>\n",
       "      <td>5.0</td>\n",
       "      <td>Hyundai</td>\n",
       "      <td>121.3</td>\n",
       "    </tr>\n",
       "    <tr>\n",
       "      <th>4</th>\n",
       "      <td>2019</td>\n",
       "      <td>3800000</td>\n",
       "      <td>20000</td>\n",
       "      <td>Diesel</td>\n",
       "      <td>Individual</td>\n",
       "      <td>Automatic</td>\n",
       "      <td>1</td>\n",
       "      <td>18.00</td>\n",
       "      <td>1969.0</td>\n",
       "      <td>400Nm</td>\n",
       "      <td>5.0</td>\n",
       "      <td>Volvo</td>\n",
       "      <td>190</td>\n",
       "    </tr>\n",
       "  </tbody>\n",
       "</table>\n",
       "</div>"
      ],
      "text/plain": [
       "   year  selling_price  km_driven    fuel seller_type transmission  owner  \\\n",
       "0  2018         850000       9500  Diesel  Individual       Manual      1   \n",
       "1  2018         750000      30000  Diesel  Individual       Manual      1   \n",
       "2  2015        1500000      80000  Diesel  Individual    Automatic      2   \n",
       "3  2015         795000      35000  Petrol  Individual       Manual      1   \n",
       "4  2019        3800000      20000  Diesel  Individual    Automatic      1   \n",
       "\n",
       "   mileage  engine                  torque  seats    brand  power  \n",
       "0    21.50  1497.0     260Nm@ 1500-2750rpm    5.0     Tata  108.5  \n",
       "1    21.19  1396.0  219.66nm@ 1500-2750rpm    5.0  Hyundai  88.76  \n",
       "2    12.55  2982.0     360Nm@ 1400-3200rpm    7.0   Toyota  168.5  \n",
       "3    17.01  1591.0        154.9Nm@ 4200rpm    5.0  Hyundai  121.3  \n",
       "4    18.00  1969.0                   400Nm    5.0    Volvo    190  "
      ]
     },
     "execution_count": 504,
     "metadata": {},
     "output_type": "execute_result"
    }
   ],
   "source": [
    "train_data.head()"
   ]
  },
  {
   "cell_type": "code",
   "execution_count": 505,
   "id": "f6098904",
   "metadata": {},
   "outputs": [
    {
     "data": {
      "text/html": [
       "<div>\n",
       "<style scoped>\n",
       "    .dataframe tbody tr th:only-of-type {\n",
       "        vertical-align: middle;\n",
       "    }\n",
       "\n",
       "    .dataframe tbody tr th {\n",
       "        vertical-align: top;\n",
       "    }\n",
       "\n",
       "    .dataframe thead th {\n",
       "        text-align: right;\n",
       "    }\n",
       "</style>\n",
       "<table border=\"1\" class=\"dataframe\">\n",
       "  <thead>\n",
       "    <tr style=\"text-align: right;\">\n",
       "      <th></th>\n",
       "      <th>year</th>\n",
       "      <th>selling_price</th>\n",
       "      <th>km_driven</th>\n",
       "      <th>owner</th>\n",
       "      <th>mileage</th>\n",
       "      <th>engine</th>\n",
       "      <th>seats</th>\n",
       "      <th>power</th>\n",
       "      <th>fuel_Diesel</th>\n",
       "      <th>fuel_LPG</th>\n",
       "      <th>fuel_Petrol</th>\n",
       "      <th>transmission_Manual</th>\n",
       "      <th>seller_type_Individual</th>\n",
       "      <th>seller_type_Trustmark Dealer</th>\n",
       "    </tr>\n",
       "  </thead>\n",
       "  <tbody>\n",
       "    <tr>\n",
       "      <th>0</th>\n",
       "      <td>2018</td>\n",
       "      <td>850000</td>\n",
       "      <td>9500</td>\n",
       "      <td>1</td>\n",
       "      <td>21.50</td>\n",
       "      <td>1497.0</td>\n",
       "      <td>5.0</td>\n",
       "      <td>108.5</td>\n",
       "      <td>1</td>\n",
       "      <td>0</td>\n",
       "      <td>0</td>\n",
       "      <td>1</td>\n",
       "      <td>1</td>\n",
       "      <td>0</td>\n",
       "    </tr>\n",
       "    <tr>\n",
       "      <th>1</th>\n",
       "      <td>2018</td>\n",
       "      <td>750000</td>\n",
       "      <td>30000</td>\n",
       "      <td>1</td>\n",
       "      <td>21.19</td>\n",
       "      <td>1396.0</td>\n",
       "      <td>5.0</td>\n",
       "      <td>88.76</td>\n",
       "      <td>1</td>\n",
       "      <td>0</td>\n",
       "      <td>0</td>\n",
       "      <td>1</td>\n",
       "      <td>1</td>\n",
       "      <td>0</td>\n",
       "    </tr>\n",
       "    <tr>\n",
       "      <th>2</th>\n",
       "      <td>2015</td>\n",
       "      <td>1500000</td>\n",
       "      <td>80000</td>\n",
       "      <td>2</td>\n",
       "      <td>12.55</td>\n",
       "      <td>2982.0</td>\n",
       "      <td>7.0</td>\n",
       "      <td>168.5</td>\n",
       "      <td>1</td>\n",
       "      <td>0</td>\n",
       "      <td>0</td>\n",
       "      <td>0</td>\n",
       "      <td>1</td>\n",
       "      <td>0</td>\n",
       "    </tr>\n",
       "    <tr>\n",
       "      <th>3</th>\n",
       "      <td>2015</td>\n",
       "      <td>795000</td>\n",
       "      <td>35000</td>\n",
       "      <td>1</td>\n",
       "      <td>17.01</td>\n",
       "      <td>1591.0</td>\n",
       "      <td>5.0</td>\n",
       "      <td>121.3</td>\n",
       "      <td>0</td>\n",
       "      <td>0</td>\n",
       "      <td>1</td>\n",
       "      <td>1</td>\n",
       "      <td>1</td>\n",
       "      <td>0</td>\n",
       "    </tr>\n",
       "    <tr>\n",
       "      <th>4</th>\n",
       "      <td>2019</td>\n",
       "      <td>3800000</td>\n",
       "      <td>20000</td>\n",
       "      <td>1</td>\n",
       "      <td>18.00</td>\n",
       "      <td>1969.0</td>\n",
       "      <td>5.0</td>\n",
       "      <td>190</td>\n",
       "      <td>1</td>\n",
       "      <td>0</td>\n",
       "      <td>0</td>\n",
       "      <td>0</td>\n",
       "      <td>1</td>\n",
       "      <td>0</td>\n",
       "    </tr>\n",
       "  </tbody>\n",
       "</table>\n",
       "</div>"
      ],
      "text/plain": [
       "   year  selling_price  km_driven  owner  mileage  engine  seats  power  \\\n",
       "0  2018         850000       9500      1    21.50  1497.0    5.0  108.5   \n",
       "1  2018         750000      30000      1    21.19  1396.0    5.0  88.76   \n",
       "2  2015        1500000      80000      2    12.55  2982.0    7.0  168.5   \n",
       "3  2015         795000      35000      1    17.01  1591.0    5.0  121.3   \n",
       "4  2019        3800000      20000      1    18.00  1969.0    5.0    190   \n",
       "\n",
       "   fuel_Diesel  fuel_LPG  fuel_Petrol  transmission_Manual  \\\n",
       "0            1         0            0                    1   \n",
       "1            1         0            0                    1   \n",
       "2            1         0            0                    0   \n",
       "3            0         0            1                    1   \n",
       "4            1         0            0                    0   \n",
       "\n",
       "   seller_type_Individual  seller_type_Trustmark Dealer  \n",
       "0                       1                             0  \n",
       "1                       1                             0  \n",
       "2                       1                             0  \n",
       "3                       1                             0  \n",
       "4                       1                             0  "
      ]
     },
     "execution_count": 505,
     "metadata": {},
     "output_type": "execute_result"
    }
   ],
   "source": [
    "final_train = pd.concat([train_data, Fuel_type, transmission, seller_type], axis=1)\n",
    "final_train.drop(columns=['fuel', 'seller_type', 'transmission','brand','torque'], inplace=True)\n",
    "final_train.head()"
   ]
  },
  {
   "cell_type": "code",
   "execution_count": 506,
   "id": "22dbfc91",
   "metadata": {},
   "outputs": [
    {
     "data": {
      "text/html": [
       "<div>\n",
       "<style scoped>\n",
       "    .dataframe tbody tr th:only-of-type {\n",
       "        vertical-align: middle;\n",
       "    }\n",
       "\n",
       "    .dataframe tbody tr th {\n",
       "        vertical-align: top;\n",
       "    }\n",
       "\n",
       "    .dataframe thead th {\n",
       "        text-align: right;\n",
       "    }\n",
       "</style>\n",
       "<table border=\"1\" class=\"dataframe\">\n",
       "  <thead>\n",
       "    <tr style=\"text-align: right;\">\n",
       "      <th></th>\n",
       "      <th>year</th>\n",
       "      <th>km_driven</th>\n",
       "      <th>owner</th>\n",
       "      <th>mileage</th>\n",
       "      <th>engine</th>\n",
       "      <th>seats</th>\n",
       "      <th>power</th>\n",
       "      <th>fuel_Diesel</th>\n",
       "      <th>fuel_LPG</th>\n",
       "      <th>fuel_Petrol</th>\n",
       "      <th>transmission_Manual</th>\n",
       "      <th>seller_type_Individual</th>\n",
       "      <th>seller_type_Trustmark Dealer</th>\n",
       "    </tr>\n",
       "  </thead>\n",
       "  <tbody>\n",
       "    <tr>\n",
       "      <th>0</th>\n",
       "      <td>2016</td>\n",
       "      <td>11000</td>\n",
       "      <td>1</td>\n",
       "      <td>14.30</td>\n",
       "      <td>1598.0</td>\n",
       "      <td>5.0</td>\n",
       "      <td>103.5</td>\n",
       "      <td>0</td>\n",
       "      <td>0</td>\n",
       "      <td>1</td>\n",
       "      <td>0</td>\n",
       "      <td>0</td>\n",
       "      <td>0</td>\n",
       "    </tr>\n",
       "    <tr>\n",
       "      <th>1</th>\n",
       "      <td>2017</td>\n",
       "      <td>35000</td>\n",
       "      <td>1</td>\n",
       "      <td>17.80</td>\n",
       "      <td>1497.0</td>\n",
       "      <td>5.0</td>\n",
       "      <td>117.3</td>\n",
       "      <td>0</td>\n",
       "      <td>0</td>\n",
       "      <td>1</td>\n",
       "      <td>1</td>\n",
       "      <td>1</td>\n",
       "      <td>0</td>\n",
       "    </tr>\n",
       "    <tr>\n",
       "      <th>2</th>\n",
       "      <td>2014</td>\n",
       "      <td>80000</td>\n",
       "      <td>1</td>\n",
       "      <td>19.10</td>\n",
       "      <td>1197.0</td>\n",
       "      <td>5.0</td>\n",
       "      <td>82</td>\n",
       "      <td>0</td>\n",
       "      <td>0</td>\n",
       "      <td>1</td>\n",
       "      <td>1</td>\n",
       "      <td>1</td>\n",
       "      <td>0</td>\n",
       "    </tr>\n",
       "    <tr>\n",
       "      <th>3</th>\n",
       "      <td>2014</td>\n",
       "      <td>145241</td>\n",
       "      <td>1</td>\n",
       "      <td>12.05</td>\n",
       "      <td>2179.0</td>\n",
       "      <td>7.0</td>\n",
       "      <td>120</td>\n",
       "      <td>1</td>\n",
       "      <td>0</td>\n",
       "      <td>0</td>\n",
       "      <td>1</td>\n",
       "      <td>1</td>\n",
       "      <td>0</td>\n",
       "    </tr>\n",
       "    <tr>\n",
       "      <th>4</th>\n",
       "      <td>2015</td>\n",
       "      <td>92651</td>\n",
       "      <td>1</td>\n",
       "      <td>21.70</td>\n",
       "      <td>1498.0</td>\n",
       "      <td>5.0</td>\n",
       "      <td>98.96</td>\n",
       "      <td>1</td>\n",
       "      <td>0</td>\n",
       "      <td>0</td>\n",
       "      <td>1</td>\n",
       "      <td>0</td>\n",
       "      <td>0</td>\n",
       "    </tr>\n",
       "  </tbody>\n",
       "</table>\n",
       "</div>"
      ],
      "text/plain": [
       "   year  km_driven  owner  mileage  engine  seats  power  fuel_Diesel  \\\n",
       "0  2016      11000      1    14.30  1598.0    5.0  103.5            0   \n",
       "1  2017      35000      1    17.80  1497.0    5.0  117.3            0   \n",
       "2  2014      80000      1    19.10  1197.0    5.0     82            0   \n",
       "3  2014     145241      1    12.05  2179.0    7.0    120            1   \n",
       "4  2015      92651      1    21.70  1498.0    5.0  98.96            1   \n",
       "\n",
       "   fuel_LPG  fuel_Petrol  transmission_Manual  seller_type_Individual  \\\n",
       "0         0            1                    0                       0   \n",
       "1         0            1                    1                       1   \n",
       "2         0            1                    1                       1   \n",
       "3         0            0                    1                       1   \n",
       "4         0            0                    1                       0   \n",
       "\n",
       "   seller_type_Trustmark Dealer  \n",
       "0                             0  \n",
       "1                             0  \n",
       "2                             0  \n",
       "3                             0  \n",
       "4                             0  "
      ]
     },
     "execution_count": 506,
     "metadata": {},
     "output_type": "execute_result"
    }
   ],
   "source": [
    "test_data = pd.concat([test_data, Fuel_type_test, transmission_test, seller_type_test], axis=1)\n",
    "test_data.drop(columns=['fuel', 'seller_type', 'transmission','torque','brand','Id'], inplace=True)\n",
    "test_data.head()"
   ]
  },
  {
   "cell_type": "code",
   "execution_count": 507,
   "id": "b7188ba6",
   "metadata": {},
   "outputs": [
    {
     "data": {
      "image/png": "[encoded data removed]",
      "text/plain": [
       "<Figure size 1296x1296 with 2 Axes>"
      ]
     },
     "metadata": {},
     "output_type": "display_data"
    }
   ],
   "source": [
    "plt.figure(figsize=(18,18))\n",
    "sns.heatmap(final_train.corr(),annot=True,cmap='RdYlGn')\n",
    "\n",
    "plt.show()"
   ]
  },
  {
   "cell_type": "code",
   "execution_count": 508,
   "id": "70f245a8",
   "metadata": {},
   "outputs": [
    {
     "name": "stdout",
     "output_type": "stream",
     "text": [
      "Find most important features relative to Price-target\n",
      "selling_price    1.000000\n",
      "engine           0.450991\n",
      "year             0.410287\n",
      "seats            0.037123\n",
      "mileage         -0.113871\n",
      "owner           -0.236592\n",
      "km_driven       -0.255016\n",
      "Name: selling_price, dtype: float64\n"
     ]
    }
   ],
   "source": [
    "# Find most important features relative to target Price\n",
    "print(\"Find most important features relative to Price-target\")\n",
    "corr = train_data.corr()\n",
    "corr.sort_values([\"selling_price\"], ascending = False, inplace = True)\n",
    "print(corr.selling_price)"
   ]
  },
  {
   "cell_type": "markdown",
   "id": "229dd999",
   "metadata": {},
   "source": [
    "# Build model"
   ]
  },
  {
   "cell_type": "code",
   "execution_count": 509,
   "id": "1b167b71",
   "metadata": {},
   "outputs": [],
   "source": [
    "from sklearn.model_selection import train_test_split\n",
    "from sklearn.model_selection import GridSearchCV\n",
    "from sklearn import svm\n",
    "from sklearn.linear_model import LinearRegression\n",
    "from sklearn import metrics\n",
    "from sklearn.pipeline import make_pipeline\n",
    "from sklearn.preprocessing import StandardScaler"
   ]
  },
  {
   "cell_type": "code",
   "execution_count": 510,
   "id": "d7e1a470",
   "metadata": {
    "scrolled": true
   },
   "outputs": [
    {
     "data": {
      "text/html": [
       "<div>\n",
       "<style scoped>\n",
       "    .dataframe tbody tr th:only-of-type {\n",
       "        vertical-align: middle;\n",
       "    }\n",
       "\n",
       "    .dataframe tbody tr th {\n",
       "        vertical-align: top;\n",
       "    }\n",
       "\n",
       "    .dataframe thead th {\n",
       "        text-align: right;\n",
       "    }\n",
       "</style>\n",
       "<table border=\"1\" class=\"dataframe\">\n",
       "  <thead>\n",
       "    <tr style=\"text-align: right;\">\n",
       "      <th></th>\n",
       "      <th>year</th>\n",
       "      <th>selling_price</th>\n",
       "      <th>km_driven</th>\n",
       "      <th>owner</th>\n",
       "      <th>mileage</th>\n",
       "      <th>engine</th>\n",
       "      <th>seats</th>\n",
       "      <th>power</th>\n",
       "      <th>fuel_Diesel</th>\n",
       "      <th>fuel_LPG</th>\n",
       "      <th>fuel_Petrol</th>\n",
       "      <th>transmission_Manual</th>\n",
       "      <th>seller_type_Individual</th>\n",
       "      <th>seller_type_Trustmark Dealer</th>\n",
       "    </tr>\n",
       "  </thead>\n",
       "  <tbody>\n",
       "    <tr>\n",
       "      <th>0</th>\n",
       "      <td>2018</td>\n",
       "      <td>850000</td>\n",
       "      <td>9500</td>\n",
       "      <td>1</td>\n",
       "      <td>21.50</td>\n",
       "      <td>1497.0</td>\n",
       "      <td>5.0</td>\n",
       "      <td>108.5</td>\n",
       "      <td>1</td>\n",
       "      <td>0</td>\n",
       "      <td>0</td>\n",
       "      <td>1</td>\n",
       "      <td>1</td>\n",
       "      <td>0</td>\n",
       "    </tr>\n",
       "    <tr>\n",
       "      <th>1</th>\n",
       "      <td>2018</td>\n",
       "      <td>750000</td>\n",
       "      <td>30000</td>\n",
       "      <td>1</td>\n",
       "      <td>21.19</td>\n",
       "      <td>1396.0</td>\n",
       "      <td>5.0</td>\n",
       "      <td>88.76</td>\n",
       "      <td>1</td>\n",
       "      <td>0</td>\n",
       "      <td>0</td>\n",
       "      <td>1</td>\n",
       "      <td>1</td>\n",
       "      <td>0</td>\n",
       "    </tr>\n",
       "    <tr>\n",
       "      <th>2</th>\n",
       "      <td>2015</td>\n",
       "      <td>1500000</td>\n",
       "      <td>80000</td>\n",
       "      <td>2</td>\n",
       "      <td>12.55</td>\n",
       "      <td>2982.0</td>\n",
       "      <td>7.0</td>\n",
       "      <td>168.5</td>\n",
       "      <td>1</td>\n",
       "      <td>0</td>\n",
       "      <td>0</td>\n",
       "      <td>0</td>\n",
       "      <td>1</td>\n",
       "      <td>0</td>\n",
       "    </tr>\n",
       "    <tr>\n",
       "      <th>3</th>\n",
       "      <td>2015</td>\n",
       "      <td>795000</td>\n",
       "      <td>35000</td>\n",
       "      <td>1</td>\n",
       "      <td>17.01</td>\n",
       "      <td>1591.0</td>\n",
       "      <td>5.0</td>\n",
       "      <td>121.3</td>\n",
       "      <td>0</td>\n",
       "      <td>0</td>\n",
       "      <td>1</td>\n",
       "      <td>1</td>\n",
       "      <td>1</td>\n",
       "      <td>0</td>\n",
       "    </tr>\n",
       "    <tr>\n",
       "      <th>4</th>\n",
       "      <td>2019</td>\n",
       "      <td>3800000</td>\n",
       "      <td>20000</td>\n",
       "      <td>1</td>\n",
       "      <td>18.00</td>\n",
       "      <td>1969.0</td>\n",
       "      <td>5.0</td>\n",
       "      <td>190</td>\n",
       "      <td>1</td>\n",
       "      <td>0</td>\n",
       "      <td>0</td>\n",
       "      <td>0</td>\n",
       "      <td>1</td>\n",
       "      <td>0</td>\n",
       "    </tr>\n",
       "  </tbody>\n",
       "</table>\n",
       "</div>"
      ],
      "text/plain": [
       "   year  selling_price  km_driven  owner  mileage  engine  seats  power  \\\n",
       "0  2018         850000       9500      1    21.50  1497.0    5.0  108.5   \n",
       "1  2018         750000      30000      1    21.19  1396.0    5.0  88.76   \n",
       "2  2015        1500000      80000      2    12.55  2982.0    7.0  168.5   \n",
       "3  2015         795000      35000      1    17.01  1591.0    5.0  121.3   \n",
       "4  2019        3800000      20000      1    18.00  1969.0    5.0    190   \n",
       "\n",
       "   fuel_Diesel  fuel_LPG  fuel_Petrol  transmission_Manual  \\\n",
       "0            1         0            0                    1   \n",
       "1            1         0            0                    1   \n",
       "2            1         0            0                    0   \n",
       "3            0         0            1                    1   \n",
       "4            1         0            0                    0   \n",
       "\n",
       "   seller_type_Individual  seller_type_Trustmark Dealer  \n",
       "0                       1                             0  \n",
       "1                       1                             0  \n",
       "2                       1                             0  \n",
       "3                       1                             0  \n",
       "4                       1                             0  "
      ]
     },
     "execution_count": 510,
     "metadata": {},
     "output_type": "execute_result"
    }
   ],
   "source": [
    "final_train.head()"
   ]
  },
  {
   "cell_type": "code",
   "execution_count": 511,
   "id": "99ed9c40",
   "metadata": {},
   "outputs": [
    {
     "name": "stdout",
     "output_type": "stream",
     "text": [
      "(5839, 11) (5839, 14)\n",
      "(1168, 11) (4671, 11)\n",
      "(2128, 13)\n"
     ]
    }
   ],
   "source": [
    "X = final_train.drop(columns=['selling_price','mileage','owner'])\n",
    "Y = final_train['selling_price']\n",
    "\n",
    "x_train, x_test, y_train, y_test = train_test_split(X, Y, test_size=0.2, random_state=42)\n",
    "print(X.shape, final_train.shape)\n",
    "print (x_test.shape, x_train.shape)\n",
    "print(test_data.shape)"
   ]
  },
  {
   "cell_type": "code",
   "execution_count": 512,
   "id": "1b8700b9",
   "metadata": {},
   "outputs": [
    {
     "data": {
      "text/plain": [
       "year                            0\n",
       "km_driven                       0\n",
       "owner                           0\n",
       "mileage                         0\n",
       "engine                          0\n",
       "seats                           0\n",
       "power                           0\n",
       "fuel_Diesel                     0\n",
       "fuel_LPG                        0\n",
       "fuel_Petrol                     0\n",
       "transmission_Manual             0\n",
       "seller_type_Individual          0\n",
       "seller_type_Trustmark Dealer    0\n",
       "dtype: int64"
      ]
     },
     "execution_count": 512,
     "metadata": {},
     "output_type": "execute_result"
    }
   ],
   "source": [
    "test_data.isnull().sum()"
   ]
  },
  {
   "cell_type": "code",
   "execution_count": 513,
   "id": "221a597e",
   "metadata": {},
   "outputs": [
    {
     "name": "stdout",
     "output_type": "stream",
     "text": [
      "Accuracy on Traing set:  0.6752341920751541\n",
      "Accuracy on Testing set:  0.7017773952404924\n"
     ]
    }
   ],
   "source": [
    "from sklearn.linear_model import LinearRegression\n",
    "linear_reg = LinearRegression()\n",
    "linear_reg.fit(x_train, y_train)\n",
    "y_pred= linear_reg.predict(x_test)\n",
    "print(\"Accuracy on Traing set: \",linear_reg.score(x_train,y_train))\n",
    "print(\"Accuracy on Testing set: \",linear_reg.score(x_test,y_test))"
   ]
  },
  {
   "cell_type": "code",
   "execution_count": 514,
   "id": "7f28beeb",
   "metadata": {},
   "outputs": [
    {
     "name": "stdout",
     "output_type": "stream",
     "text": [
      "MSE: 479195.80731113465\n"
     ]
    }
   ],
   "source": [
    "print('MSE:', str(metrics.mean_squared_error(y_true=y_test, y_pred=y_pred,squared=False)))"
   ]
  },
  {
   "cell_type": "code",
   "execution_count": 515,
   "id": "15e4ff68",
   "metadata": {
    "scrolled": true
   },
   "outputs": [
    {
     "name": "stdout",
     "output_type": "stream",
     "text": [
      "Accuracy on Traing set:  0.9939403353251021\n",
      "Accuracy on Testing set:  0.9775985439539326\n"
     ]
    }
   ],
   "source": [
    "from sklearn.ensemble import RandomForestRegressor\n",
    "rf_reg = RandomForestRegressor(n_estimators=150)\n",
    "rf_reg.fit(x_train, y_train)\n",
    "#y_pred= rf_reg.predict(test_data)\n",
    "y_pred_on_train_data= rf_reg.predict(x_test)\n",
    "\n",
    "print(\"Accuracy on Traing set: \",rf_reg.score(x_train,y_train))\n",
    "print(\"Accuracy on Testing set: \",rf_reg.score(x_test,y_test))\n",
    "#print(y_pred[:10])\n",
    "#print(y_test[:10])"
   ]
  },
  {
   "cell_type": "code",
   "execution_count": 516,
   "id": "86add85e",
   "metadata": {},
   "outputs": [
    {
     "name": "stdout",
     "output_type": "stream",
     "text": [
      "RMSE: 62051.22231508827\n"
     ]
    }
   ],
   "source": [
    "x_pred_on_train_data= rf_reg.predict(x_train)\n",
    "print('RMSE:', str(metrics.mean_squared_error(y_true=y_train, y_pred=x_pred_on_train_data,squared=False)))"
   ]
  },
  {
   "cell_type": "code",
   "execution_count": 517,
   "id": "578d5ca1",
   "metadata": {
    "scrolled": true
   },
   "outputs": [
    {
     "name": "stdout",
     "output_type": "stream",
     "text": [
      "RMSE: 131335.1134958226\n"
     ]
    }
   ],
   "source": [
    "print('RMSE:', str(metrics.mean_squared_error(y_true=y_test, y_pred=y_pred_on_train_data,squared=False)))"
   ]
  },
  {
   "cell_type": "code",
   "execution_count": 639,
   "id": "fc8a0b0c",
   "metadata": {},
   "outputs": [],
   "source": [
    "y_pred= rf_reg.predict(test_data.drop(columns = ['mileage','owner']))\n",
    "ex =  pd.DataFrame(y_pred,columns=[\"Predicted\"], index=[i for i in range(1,y_pred.shape[0]+1)] )\n",
    "ex.to_csv(\"oldpredict6.csv\")"
   ]
  },
  {
   "cell_type": "code",
   "execution_count": 640,
   "id": "e208ac4e",
   "metadata": {},
   "outputs": [],
   "source": [
    "ex.to_csv(\"oldpredict6.csv\")"
   ]
  },
  {
   "cell_type": "code",
   "execution_count": null,
   "id": "b88ee88b",
   "metadata": {},
   "outputs": [],
   "source": []
  },
  {
   "cell_type": "code",
   "execution_count": 526,
   "id": "8da2304d",
   "metadata": {},
   "outputs": [],
   "source": [
    "import numpy as np\n",
    "import pandas as pd\n",
    "from sklearn import datasets\n",
    "import seaborn as sns\n",
    "from sklearn.feature_selection import RFE\n",
    "from sklearn.model_selection import train_test_split\n",
    "from sklearn.model_selection import cross_val_score\n",
    "from sklearn.model_selection import KFold\n",
    "from sklearn.pipeline import Pipeline\n",
    "from sklearn.preprocessing import StandardScaler\n",
    "import matplotlib.pyplot as plt"
   ]
  },
  {
   "cell_type": "code",
   "execution_count": 527,
   "id": "3965d312",
   "metadata": {},
   "outputs": [],
   "source": [
    "from sklearn.linear_model import LinearRegression\n",
    "from sklearn.linear_model import Lasso\n",
    "from sklearn.linear_model import ElasticNet\n",
    "from sklearn.tree import DecisionTreeRegressor\n",
    "from sklearn.neighbors import KNeighborsRegressor\n",
    "from sklearn.ensemble import GradientBoostingRegressor"
   ]
  },
  {
   "cell_type": "code",
   "execution_count": 528,
   "id": "29b14a21",
   "metadata": {},
   "outputs": [
    {
     "name": "stdout",
     "output_type": "stream",
     "text": [
      "ScaledLR: -207960191757.659393 (27011784401.132179)\n",
      "ScaledLASSO: -207960189113.414337 (27011954877.357605)\n",
      "ScaledEN: -228658488768.446808 (38698672743.406906)\n",
      "ScaledKNN: -52701504999.216393 (25515029851.613197)\n",
      "ScaledCART: -39621943328.381859 (12795580147.904623)\n",
      "ScaledGBM: -34803393114.353966 (16676365570.170916)\n"
     ]
    }
   ],
   "source": [
    "pipelines = []\n",
    "pipelines.append(('ScaledLR', Pipeline([('Scaler', StandardScaler()),('LR',LinearRegression())])))\n",
    "pipelines.append(('ScaledLASSO', Pipeline([('Scaler', StandardScaler()),('LASSO', Lasso())])))\n",
    "pipelines.append(('ScaledEN', Pipeline([('Scaler', StandardScaler()),('EN', ElasticNet())])))\n",
    "pipelines.append(('ScaledKNN', Pipeline([('Scaler', StandardScaler()),('KNN', KNeighborsRegressor())])))\n",
    "pipelines.append(('ScaledCART', Pipeline([('Scaler', StandardScaler()),('CART', DecisionTreeRegressor())])))\n",
    "pipelines.append(('ScaledGBM', Pipeline([('Scaler', StandardScaler()),('GBM', GradientBoostingRegressor())])))\n",
    "\n",
    "results = []\n",
    "names = []\n",
    "X_train, x_test, Y_train, y_test = train_test_split(X, Y, test_size=0.2, random_state=42)\n",
    "\n",
    "for name, model in pipelines:\n",
    "    kfold = KFold(n_splits=6)\n",
    "    cv_results = cross_val_score(model, X_train, Y_train, cv=kfold, scoring='neg_mean_squared_error')\n",
    "    results.append(cv_results)\n",
    "    names.append(name)\n",
    "    msg = \"%s: %f (%f)\" % (name, cv_results.mean(), cv_results.std())\n",
    "    print(msg)"
   ]
  },
  {
   "cell_type": "code",
   "execution_count": 579,
   "id": "88f43ae0",
   "metadata": {},
   "outputs": [
    {
     "name": "stdout",
     "output_type": "stream",
     "text": [
      "RMSE: 108276.91799431994\n"
     ]
    }
   ],
   "source": [
    "rf_reg = GradientBoostingRegressor(learning_rate=0.1,n_estimators=1000, criterion='mse', max_depth=5)\n",
    "rf_reg.fit(x_train, y_train)\n",
    "\n",
    "y_pred_on_train_data= rf_reg.predict(x_test)\n",
    "\n",
    "print('RMSE:', str(metrics.mean_squared_error(y_true=y_test, y_pred=y_pred_on_train_data,squared=False)))"
   ]
  },
  {
   "cell_type": "code",
   "execution_count": 576,
   "id": "a50e850c",
   "metadata": {},
   "outputs": [
    {
     "name": "stdout",
     "output_type": "stream",
     "text": [
      "RMSE: 41906.3940262191\n"
     ]
    }
   ],
   "source": [
    "x_pred_on_train_data= rf_reg.predict(x_train)\n",
    "print('RMSE:', str(metrics.mean_squared_error(y_true=y_train, y_pred=x_pred_on_train_data,squared=False)))"
   ]
  },
  {
   "cell_type": "code",
   "execution_count": 577,
   "id": "b0fe613d",
   "metadata": {},
   "outputs": [],
   "source": [
    "y_pred= rf_reg.predict(test_data.drop(columns = ['mileage','owner']))\n",
    "ex =  pd.DataFrame(y_pred,columns=[\"Predicted\"], index=[i for i in range(1,y_pred.shape[0]+1)] )\n",
    "ex.to_csv(\"oldpredict9.csv\")"
   ]
  },
  {
   "cell_type": "code",
   "execution_count": null,
   "id": "7cde42d3",
   "metadata": {},
   "outputs": [],
   "source": []
  },
  {
   "cell_type": "code",
   "execution_count": 242,
   "id": "00d59271",
   "metadata": {},
   "outputs": [
    {
     "data": {
      "text/plain": [
       "650457.6202910959"
      ]
     },
     "execution_count": 242,
     "metadata": {},
     "output_type": "execute_result"
    }
   ],
   "source": [
    "y_test.mean()"
   ]
  },
  {
   "cell_type": "code",
   "execution_count": 233,
   "id": "9c7e7965",
   "metadata": {},
   "outputs": [
    {
     "name": "stdout",
     "output_type": "stream",
     "text": [
      "4583     400000\n",
      "177      150000\n",
      "167      160000\n",
      "3723    1040000\n",
      "2339     360000\n",
      "         ...   \n",
      "1551     650000\n",
      "5179    1050000\n",
      "1146     450000\n",
      "3528     300000\n",
      "2092     900000\n",
      "Name: selling_price, Length: 2336, dtype: int64\n"
     ]
    }
   ],
   "source": [
    "print(y_test)"
   ]
  },
  {
   "cell_type": "code",
   "execution_count": 142,
   "id": "91a3cfcf",
   "metadata": {},
   "outputs": [
    {
     "data": {
      "image/png": "[encoded data removed]",
      "text/plain": [
       "<Figure size 648x648 with 1 Axes>"
      ]
     },
     "metadata": {},
     "output_type": "display_data"
    }
   ],
   "source": [
    "fig, ax = plt.subplots(figsize=(9, 9))\n",
    "ax = sns.lineplot(x='Alpha', y='MSE', data=df)"
   ]
  },
  {
   "cell_type": "code",
   "execution_count": null,
   "id": "35726056",
   "metadata": {},
   "outputs": [],
   "source": []
  }
 ],
 "metadata": {
  "kernelspec": {
   "display_name": "Python 3",
   "language": "python",
   "name": "python3"
  },
  "language_info": {
   "codemirror_mode": {
    "name": "ipython",
    "version": 3
   },
   "file_extension": ".py",
   "mimetype": "text/x-python",
   "name": "python",
   "nbconvert_exporter": "python",
   "pygments_lexer": "ipython3",
   "version": "3.8.8"
  }
 },
 "nbformat": 4,
 "nbformat_minor": 5
}
